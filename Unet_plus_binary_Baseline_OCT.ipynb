{
  "nbformat": 4,
  "nbformat_minor": 0,
  "metadata": {
    "accelerator": "GPU",
    "colab": {
      "name": "Unet_plus_binary-Baseline_OCT.ipynb",
      "provenance": [],
      "collapsed_sections": [],
      "include_colab_link": true
    },
    "kernelspec": {
      "display_name": "Python 3",
      "language": "python",
      "name": "python3"
    },
    "language_info": {
      "codemirror_mode": {
        "name": "ipython",
        "version": 3
      },
      "file_extension": ".py",
      "mimetype": "text/x-python",
      "name": "python",
      "nbconvert_exporter": "python",
      "pygments_lexer": "ipython3",
      "version": "3.8.5"
    }
  },
  "cells": [
    {
      "cell_type": "markdown",
      "metadata": {
        "id": "view-in-github",
        "colab_type": "text"
      },
      "source": [
        "<a href=\"https://colab.research.google.com/github/sohiniroych/Deep-ReAP-for-Multi-pathology-Classification/blob/main/Unet_plus_binary_Baseline_OCT.ipynb\" target=\"_parent\"><img src=\"https://colab.research.google.com/assets/colab-badge.svg\" alt=\"Open In Colab\"/></a>"
      ]
    },
    {
      "cell_type": "markdown",
      "metadata": {
        "id": "n7yLKm_-kuii"
      },
      "source": [
        "# This code implements segmentation of of cysts from OCT images using the variants of U-net, wUnet and Unet++\n",
        "\n",
        "## This code implements multi-class classification\n",
        "## This model is adapted from the original codebase in https://github.com/HZCTony/U-net-with-multiple-classification"
      ]
    },
    {
      "cell_type": "code",
      "metadata": {
        "colab": {
          "base_uri": "https://localhost:8080/"
        },
        "id": "KnKLnN-QDlzX",
        "outputId": "81cae043-1ffc-4b08-abf8-680515ace56a"
      },
      "source": [
        "# First lets connect the Gdrive that contains the data\n",
        "from google.colab import drive\n",
        "drive.mount('/content/drive')"
      ],
      "execution_count": null,
      "outputs": [
        {
          "output_type": "stream",
          "name": "stdout",
          "text": [
            "Mounted at /content/drive\n"
          ]
        }
      ]
    },
    {
      "cell_type": "code",
      "metadata": {
        "colab": {
          "base_uri": "https://localhost:8080/"
        },
        "id": "c7xAEMCtlApo",
        "outputId": "0db17aa8-0206-48ec-f5d5-636f738bdc17"
      },
      "source": [
        "import os\n",
        "# The path below should point to the directory containing this notebook and the associated utility files\n",
        "# Change it if necessary\n",
        "os.chdir('/content/drive/MyDrive/Colab Notebooks/ISBI_paper/code/')\n",
        "!ls\n",
        "PATH='/content/drive/My Drive/Colab Notebooks/ISBI_paper/Data_Stacks/topcon_2/test/'"
      ],
      "execution_count": null,
      "outputs": [
        {
          "output_type": "stream",
          "name": "stdout",
          "text": [
            "Data_pipeline_Medical_data.ipynb  Unet_plus_binary-Baseline_Lung_med.ipynb\n",
            "model_new.py\t\t\t  Unet_plus_binary-Baseline_Lung_rad.ipynb\n",
            "__pycache__\t\t\t  Unet_plus_binary-Baseline_OCT.ipynb\n",
            "train\t\t\t\t  Unet_plus_binary.ipynb\n"
          ]
        }
      ]
    },
    {
      "cell_type": "markdown",
      "metadata": {
        "id": "A6NxrV-pDjrU"
      },
      "source": [
        "# First, we create a directry of randomly sampled training and test images"
      ]
    },
    {
      "cell_type": "code",
      "metadata": {
        "id": "XmWkVKPMDjrV"
      },
      "source": [
        "if not os.path.exists(PATH+'train'):\n",
        "    os.makedirs(PATH+'train')\n",
        "if not os.path.exists(PATH+'train/Image/'):\n",
        "    os.makedirs(PATH+'train/Image/')\n",
        "if not os.path.exists(PATH+'train/GT/'):\n",
        "    os.makedirs(PATH+'train/GT/')\n",
        "    \n",
        "if not os.path.exists(PATH+'test'):\n",
        "    os.makedirs(PATH+'test')    \n",
        "if not os.path.exists(PATH+'test/Image/'):\n",
        "    os.makedirs(PATH+'test/Image/')\n",
        "if not os.path.exists(PATH+'test/GT/'):\n",
        "    os.makedirs(PATH+'test/GT/')\n",
        "    \n",
        "if not os.path.exists(PATH+'pred'):\n",
        "   os.makedirs(PATH+'pred')  \n"
      ],
      "execution_count": null,
      "outputs": []
    },
    {
      "cell_type": "markdown",
      "metadata": {
        "id": "gMTOKe56DjrW"
      },
      "source": [
        "\n",
        "# Randomly split the data in \"Images\" into 25/75"
      ]
    },
    {
      "cell_type": "code",
      "metadata": {
        "id": "tIUiGBJiDjrX",
        "colab": {
          "base_uri": "https://localhost:8080/"
        },
        "outputId": "7dd0b53c-1b52-47ad-d210-bfe41584a2b1"
      },
      "source": [
        "files=(os.listdir(PATH+'/Image/'))\n",
        "print(len(files))"
      ],
      "execution_count": null,
      "outputs": [
        {
          "output_type": "stream",
          "name": "stdout",
          "text": [
            "75\n"
          ]
        }
      ]
    },
    {
      "cell_type": "code",
      "metadata": {
        "id": "5YT1RoUlDjra",
        "colab": {
          "base_uri": "https://localhost:8080/"
        },
        "outputId": "1b509450-10e2-439e-e823-db46f9e1d48d"
      },
      "source": [
        "import numpy as np \n",
        "nums=np.random.permutation(len(files))\n",
        "n=int(len(files)/4)\n",
        "print(n)"
      ],
      "execution_count": null,
      "outputs": [
        {
          "output_type": "stream",
          "name": "stdout",
          "text": [
            "18\n"
          ]
        }
      ]
    },
    {
      "cell_type": "code",
      "metadata": {
        "id": "a9xIcTFeDjrb"
      },
      "source": [
        "from shutil import copyfile\n",
        "\n",
        "#This is train data\n",
        "for i in range(n):\n",
        "    copyfile(PATH+'Image/'+files[nums[i]],PATH+'train/Image/'+files[nums[i]])\n",
        "    copyfile(PATH+'GT/'+files[nums[i]],PATH+'train/GT/'+files[nums[i]])\n",
        "    "
      ],
      "execution_count": null,
      "outputs": []
    },
    {
      "cell_type": "code",
      "metadata": {
        "id": "J9Tw28dtDjrc"
      },
      "source": [
        "# This is test data\n",
        "for i in range(n+1,len(files)):\n",
        "    copyfile(PATH+'Image/'+files[nums[i]],PATH+'test/Image/'+files[nums[i]])\n",
        "    copyfile(PATH+'/GT/'+files[nums[i]],PATH+'test/GT/'+files[nums[i]])"
      ],
      "execution_count": null,
      "outputs": []
    },
    {
      "cell_type": "code",
      "metadata": {
        "id": "AB5PBTZmr-gA",
        "colab": {
          "base_uri": "https://localhost:8080/",
          "height": 35
        },
        "outputId": "4ab6a17c-3715-4456-da5c-3745d20fd593"
      },
      "source": [
        "os.getcwd()"
      ],
      "execution_count": null,
      "outputs": [
        {
          "output_type": "execute_result",
          "data": {
            "application/vnd.google.colaboratory.intrinsic+json": {
              "type": "string"
            },
            "text/plain": [
              "'/content/drive/My Drive/Colab Notebooks/ISBI_paper/code'"
            ]
          },
          "metadata": {},
          "execution_count": 8
        }
      ]
    },
    {
      "cell_type": "markdown",
      "metadata": {
        "id": "Nb3UtvnRDjre"
      },
      "source": [
        "# Train and Test data are now generated. Now we need to train and test"
      ]
    },
    {
      "cell_type": "markdown",
      "metadata": {
        "id": "hsjiInH8kuiq"
      },
      "source": [
        "# A. Lets start by stepwise defining all libraries and functions needed to generate the model and pre-process the data"
      ]
    },
    {
      "cell_type": "code",
      "metadata": {
        "id": "CKpTzQkOkuiq"
      },
      "source": [
        "#Step 1: Load libraries for the U-net Model\n",
        "\n",
        "import skimage.io as io\n",
        "import skimage.transform as trans\n",
        "import numpy as np\n",
        "from tensorflow.keras.models import *\n",
        "from tensorflow.keras.layers import *\n",
        "from tensorflow.keras.optimizers import *\n",
        "from tensorflow.keras.callbacks import ModelCheckpoint, LearningRateScheduler\n",
        "from tensorflow.keras import backend as keras\n",
        "#from tensorflow import keras\n",
        "import tensorflow as tf"
      ],
      "execution_count": null,
      "outputs": []
    },
    {
      "cell_type": "code",
      "metadata": {
        "id": "1AzDVayVkuiq"
      },
      "source": [
        "#Step 2: Import the U-net model\n",
        "from model_new import *\n",
        "img_size=(256,256)"
      ],
      "execution_count": null,
      "outputs": []
    },
    {
      "cell_type": "code",
      "metadata": {
        "id": "cbKhpLx5kuir"
      },
      "source": [
        "n_class=2\n"
      ],
      "execution_count": null,
      "outputs": []
    },
    {
      "cell_type": "code",
      "metadata": {
        "id": "Fncvxfbywbx7"
      },
      "source": [
        "mod = U_Net(img_size[0],img_size[1],1)\n",
        "#mod = Nest_Net(img_size[0],img_size[1],1,1,deep_supervision=True)"
      ],
      "execution_count": null,
      "outputs": []
    },
    {
      "cell_type": "code",
      "metadata": {
        "colab": {
          "base_uri": "https://localhost:8080/"
        },
        "id": "eAjLtxKxwwYF",
        "outputId": "ea2b80fc-bddb-4da8-b2af-c2aaa7df2657"
      },
      "source": [
        "mod.summary()"
      ],
      "execution_count": null,
      "outputs": [
        {
          "output_type": "stream",
          "name": "stdout",
          "text": [
            "Model: \"model_1\"\n",
            "__________________________________________________________________________________________________\n",
            "Layer (type)                    Output Shape         Param #     Connected to                     \n",
            "==================================================================================================\n",
            "main_input (InputLayer)         [(None, 256, 256, 1) 0                                            \n",
            "__________________________________________________________________________________________________\n",
            "conv11_1 (Conv2D)               (None, 256, 256, 32) 320         main_input[0][0]                 \n",
            "__________________________________________________________________________________________________\n",
            "batch_normalization_10 (BatchNo (None, 256, 256, 32) 128         conv11_1[0][0]                   \n",
            "__________________________________________________________________________________________________\n",
            "conv11_2 (Conv2D)               (None, 256, 256, 32) 9248        batch_normalization_10[0][0]     \n",
            "__________________________________________________________________________________________________\n",
            "batch_normalization_11 (BatchNo (None, 256, 256, 32) 128         conv11_2[0][0]                   \n",
            "__________________________________________________________________________________________________\n",
            "pool1 (MaxPooling2D)            (None, 128, 128, 32) 0           batch_normalization_11[0][0]     \n",
            "__________________________________________________________________________________________________\n",
            "conv21_1 (Conv2D)               (None, 128, 128, 64) 18496       pool1[0][0]                      \n",
            "__________________________________________________________________________________________________\n",
            "batch_normalization_12 (BatchNo (None, 128, 128, 64) 256         conv21_1[0][0]                   \n",
            "__________________________________________________________________________________________________\n",
            "conv21_2 (Conv2D)               (None, 128, 128, 64) 36928       batch_normalization_12[0][0]     \n",
            "__________________________________________________________________________________________________\n",
            "batch_normalization_13 (BatchNo (None, 128, 128, 64) 256         conv21_2[0][0]                   \n",
            "__________________________________________________________________________________________________\n",
            "pool2 (MaxPooling2D)            (None, 64, 64, 64)   0           batch_normalization_13[0][0]     \n",
            "__________________________________________________________________________________________________\n",
            "conv31_1 (Conv2D)               (None, 64, 64, 128)  73856       pool2[0][0]                      \n",
            "__________________________________________________________________________________________________\n",
            "batch_normalization_14 (BatchNo (None, 64, 64, 128)  512         conv31_1[0][0]                   \n",
            "__________________________________________________________________________________________________\n",
            "conv31_2 (Conv2D)               (None, 64, 64, 128)  147584      batch_normalization_14[0][0]     \n",
            "__________________________________________________________________________________________________\n",
            "batch_normalization_15 (BatchNo (None, 64, 64, 128)  512         conv31_2[0][0]                   \n",
            "__________________________________________________________________________________________________\n",
            "pool3 (MaxPooling2D)            (None, 32, 32, 128)  0           batch_normalization_15[0][0]     \n",
            "__________________________________________________________________________________________________\n",
            "conv41_1 (Conv2D)               (None, 32, 32, 256)  295168      pool3[0][0]                      \n",
            "__________________________________________________________________________________________________\n",
            "batch_normalization_16 (BatchNo (None, 32, 32, 256)  1024        conv41_1[0][0]                   \n",
            "__________________________________________________________________________________________________\n",
            "conv41_2 (Conv2D)               (None, 32, 32, 256)  590080      batch_normalization_16[0][0]     \n",
            "__________________________________________________________________________________________________\n",
            "batch_normalization_17 (BatchNo (None, 32, 32, 256)  1024        conv41_2[0][0]                   \n",
            "__________________________________________________________________________________________________\n",
            "dropout_2 (Dropout)             (None, 32, 32, 256)  0           batch_normalization_17[0][0]     \n",
            "__________________________________________________________________________________________________\n",
            "pool4 (MaxPooling2D)            (None, 16, 16, 256)  0           dropout_2[0][0]                  \n",
            "__________________________________________________________________________________________________\n",
            "conv51_1 (Conv2D)               (None, 16, 16, 512)  1180160     pool4[0][0]                      \n",
            "__________________________________________________________________________________________________\n",
            "batch_normalization_18 (BatchNo (None, 16, 16, 512)  2048        conv51_1[0][0]                   \n",
            "__________________________________________________________________________________________________\n",
            "conv51_2 (Conv2D)               (None, 16, 16, 512)  2359808     batch_normalization_18[0][0]     \n",
            "__________________________________________________________________________________________________\n",
            "batch_normalization_19 (BatchNo (None, 16, 16, 512)  2048        conv51_2[0][0]                   \n",
            "__________________________________________________________________________________________________\n",
            "dropout_3 (Dropout)             (None, 16, 16, 512)  0           batch_normalization_19[0][0]     \n",
            "__________________________________________________________________________________________________\n",
            "up42 (Conv2DTranspose)          (None, 32, 32, 256)  524544      dropout_3[0][0]                  \n",
            "__________________________________________________________________________________________________\n",
            "merge42 (Concatenate)           (None, 32, 32, 512)  0           up42[0][0]                       \n",
            "                                                                 batch_normalization_17[0][0]     \n",
            "__________________________________________________________________________________________________\n",
            "conv42_1 (Conv2D)               (None, 32, 32, 256)  1179904     merge42[0][0]                    \n",
            "__________________________________________________________________________________________________\n",
            "conv42_2 (Conv2D)               (None, 32, 32, 256)  590080      conv42_1[0][0]                   \n",
            "__________________________________________________________________________________________________\n",
            "up33 (Conv2DTranspose)          (None, 64, 64, 128)  131200      conv42_2[0][0]                   \n",
            "__________________________________________________________________________________________________\n",
            "merge33 (Concatenate)           (None, 64, 64, 256)  0           up33[0][0]                       \n",
            "                                                                 batch_normalization_15[0][0]     \n",
            "__________________________________________________________________________________________________\n",
            "conv33_1 (Conv2D)               (None, 64, 64, 128)  295040      merge33[0][0]                    \n",
            "__________________________________________________________________________________________________\n",
            "conv33_2 (Conv2D)               (None, 64, 64, 128)  147584      conv33_1[0][0]                   \n",
            "__________________________________________________________________________________________________\n",
            "up24 (Conv2DTranspose)          (None, 128, 128, 64) 32832       conv33_2[0][0]                   \n",
            "__________________________________________________________________________________________________\n",
            "merge24 (Concatenate)           (None, 128, 128, 128 0           up24[0][0]                       \n",
            "                                                                 batch_normalization_13[0][0]     \n",
            "__________________________________________________________________________________________________\n",
            "conv24_1 (Conv2D)               (None, 128, 128, 64) 73792       merge24[0][0]                    \n",
            "__________________________________________________________________________________________________\n",
            "conv24_2 (Conv2D)               (None, 128, 128, 64) 36928       conv24_1[0][0]                   \n",
            "__________________________________________________________________________________________________\n",
            "up15 (Conv2DTranspose)          (None, 256, 256, 32) 8224        conv24_2[0][0]                   \n",
            "__________________________________________________________________________________________________\n",
            "merge15 (Concatenate)           (None, 256, 256, 64) 0           up15[0][0]                       \n",
            "                                                                 batch_normalization_11[0][0]     \n",
            "__________________________________________________________________________________________________\n",
            "conv15_1 (Conv2D)               (None, 256, 256, 32) 18464       merge15[0][0]                    \n",
            "__________________________________________________________________________________________________\n",
            "conv15_2 (Conv2D)               (None, 256, 256, 32) 9248        conv15_1[0][0]                   \n",
            "__________________________________________________________________________________________________\n",
            "output (Conv2D)                 (None, 256, 256, 1)  33          conv15_2[0][0]                   \n",
            "==================================================================================================\n",
            "Total params: 7,767,457\n",
            "Trainable params: 7,763,489\n",
            "Non-trainable params: 3,968\n",
            "__________________________________________________________________________________________________\n"
          ]
        }
      ]
    },
    {
      "cell_type": "code",
      "metadata": {
        "id": "apyaqeIDkuir"
      },
      "source": [
        "#Step 3:Define functions for pre-processing data\n",
        "from tensorflow.keras.preprocessing.image import ImageDataGenerator\n",
        "import skimage.io as io\n",
        "import skimage.transform as trans\n",
        "import matplotlib.pyplot as plt\n",
        "import scipy.misc as sc\n",
        "\n",
        "\n",
        "def adjustData(img,mask,flag_multi_class,n_class):\n",
        "    \n",
        "    if(flag_multi_class):\n",
        "        img /= 255\n",
        "        mask = mask[:,:,:,0] if(len(mask.shape) == 4) else mask[:,:,0]\n",
        "        new_mask = np.zeros(mask.shape + (n_class,))\n",
        "        for i in range(n_class):\n",
        "            \n",
        "            new_mask[mask == i,i] = 1\n",
        "        new_mask = np.reshape(new_mask,(new_mask.shape[0],new_mask.shape[1]*new_mask.shape[2],new_mask.shape[3])) if flag_multi_class else np.reshape(new_mask,(new_mask.shape[0]*new_mask.shape[1],new_mask.shape[2]))\n",
        "        mask = new_mask\n",
        "    elif(np.max(img)>1):\n",
        "        img = img / 255\n",
        "        mask = mask /255\n",
        "    mask[mask > 0.5] = 1\n",
        "    mask[mask <=0.5] = 0\n",
        "        #print(np.shape(mask),np.shape(img))\n",
        "    return (img,mask)\n",
        "\n",
        "\n",
        "\n",
        "def trainGenerator(batch_size,train_path,image_folder,mask_folder,aug_dict,image_color_mode = \"grayscale\",\n",
        "                    mask_color_mode = \"grayscale\",image_save_prefix  = \"image\",mask_save_prefix  = \"mask\",\n",
        "                    flag_multi_class = False,n_class = n_class,save_to_dir = None,target_size = img_size,seed = 1):\n",
        "    '''\n",
        "    can generate image and mask at the same time\n",
        "    use the same seed for image_datagen and mask_datagen to ensure the transformation for image and mask is the same\n",
        "    if you want to visualize the results of generator, set save_to_dir = \"your path\"\n",
        "    '''\n",
        "    image_datagen = ImageDataGenerator(**aug_dict)\n",
        "    mask_datagen = ImageDataGenerator(**aug_dict)\n",
        "    image_generator = image_datagen.flow_from_directory(\n",
        "        #'./',\n",
        "        train_path,\n",
        "        classes = [image_folder],\n",
        "        color_mode = image_color_mode,\n",
        "        target_size = target_size,\n",
        "        batch_size = batch_size,\n",
        "        save_to_dir = save_to_dir,\n",
        "        save_prefix  = image_save_prefix,\n",
        "        class_mode=None,\n",
        "        seed = seed)\n",
        "    mask_generator = mask_datagen.flow_from_directory(\n",
        "        train_path,\n",
        "        classes = [mask_folder],\n",
        "        color_mode = mask_color_mode,\n",
        "        target_size = target_size,\n",
        "        batch_size = batch_size,\n",
        "        save_to_dir = save_to_dir,\n",
        "        save_prefix  = mask_save_prefix,\n",
        "        class_mode=None,\n",
        "        seed = seed)\n",
        "    train_generator = zip(image_generator, mask_generator)\n",
        "    for (img,mask) in train_generator:\n",
        "        img,mask = adjustData(img,mask,flag_multi_class,n_class)\n",
        "        yield (img,mask)\n",
        "\n",
        "\n",
        "def testGenerator(test_path,target_size = img_size,flag_multi_class = True,as_gray = True):\n",
        "    files=sorted(os.listdir(test_path))\n",
        "    num_image=len(files)\n",
        "    for i in range(num_image):\n",
        "        img = io.imread(os.path.join(test_path,files[i]),as_gray = as_gray)\n",
        "        print(files[i])\n",
        "        img = trans.resize(img,target_size)\n",
        "        img = np.reshape(img,img.shape+(1,)) if (not flag_multi_class) else img\n",
        "        img = np.reshape(img,(1,)+img.shape)\n",
        "        #print(np.max(img))\n",
        "        yield img"
      ],
      "execution_count": null,
      "outputs": []
    },
    {
      "cell_type": "code",
      "metadata": {
        "id": "6_R2XCFukuis"
      },
      "source": [
        "#Step 4: Define function to save the test images\n",
        "def labelVisualize(num_class,color_dict,img):\n",
        "    img = img[:,:,0] if len(img.shape) == 3 else img\n",
        "    img_out = np.zeros(img.shape + (3,))\n",
        "    for i in range(num_class):\n",
        "        img_out[img == i] = color_dict[i]\n",
        "      \n",
        "    return img_out\n",
        "\n",
        "\n",
        "def saveResult(img_path,save_path,npyfile,flag_multi_class = False,num_class = 2):\n",
        "    files=os.listdir(img_path)\n",
        "    #print(len(img_path))\n",
        "    #print(len(npyfile))\n",
        "    \n",
        "    for i,item in enumerate(npyfile):\n",
        "        img = labelVisualize(num_class,COLOR_DICT,item) if flag_multi_class else item[:,:,0]\n",
        "        #img1=np.array(((img - np.min(img))/np.ptp(img))>0.6).astype(float)\n",
        "        img[img>0.5]=1\n",
        "        img[img<=0.5]=0\n",
        "        io.imsave(os.path.join(save_path, files[i]),img)\n",
        "        \n",
        "        \n",
        "        \n",
        "def SaveResultwImage(img_path,save_path,npyfile,target_size=img_size,flag_multi_class = False,num_class = 2):\n",
        "    files=os.listdir(img_path)\n",
        "    #print(len(img_path))\n",
        "    #print(len(npyfile))\n",
        "    \n",
        "    for i,item in enumerate(npyfile):\n",
        "        img = labelVisualize(num_class,COLOR_DICT,item) if flag_multi_class else item[:,:,0]\n",
        "        #img1=np.array(((img - np.min(img))/np.ptp(img))>0.6).astype(float)\n",
        "        img[img>0.2]=1\n",
        "        img[img<=0.2]=0\n",
        "        \n",
        "        I = io.imread(os.path.join(img_path,files[i]), as_gray=True)\n",
        "        I = trans.resize(I,target_size)\n",
        "        #dst = cv2.addWeighted(img, 0.5, I, 0.5, 0.0)\n",
        "        img=np.true_divide((I+img),2)\n",
        "        io.imsave(os.path.join(save_path, files[i]),img)  "
      ],
      "execution_count": null,
      "outputs": []
    },
    {
      "cell_type": "code",
      "metadata": {
        "id": "OpRBa_aWkuis"
      },
      "source": [
        "#Step 5: Define functions to evaluate the output\n",
        "import sklearn.metrics as sm\n",
        "\n",
        "def get_confusion_matrix_elements(groundtruth_list, predicted_list):\n",
        "    \"\"\"returns confusion matrix elements i.e TN, FP, FN, TP as floats\n",
        "\tSee example code for helper function definitions\n",
        "    \"\"\"\n",
        "    tn, fp, fn, tp = sm.confusion_matrix(groundtruth_list, predicted_list,labels=[0,1]).ravel()\n",
        "    tn, fp, fn, tp = np.float64(tn), np.float64(fp), np.float64(fn), np.float64(tp)\n",
        "\n",
        "    return tn, fp, fn, tp\n",
        "\n",
        "def get_prec_rec_IoU_accuracy(groundtruth_list, predicted_list):\n",
        "    \"\"\"returns precision, recall, IoU and accuracy metrics\n",
        "\t\"\"\"\n",
        "    tn, fp, fn, tp = get_confusion_matrix_elements(groundtruth_list, predicted_list)\n",
        "    \n",
        "    total = tp + fp + fn + tn\n",
        "    accuracy = (tp + tn) / total\n",
        "    prec=tp/(tp+fp)\n",
        "    rec=tp/(tp+fn)\n",
        "    IoU=tp/(tp+fp+fn)\n",
        "    \n",
        "    return prec,rec,IoU,accuracy\n",
        "\n",
        "def get_f1_score(groundtruth_list, predicted_list):\n",
        "    \"\"\"Return f1 score covering edge cases\"\"\"\n",
        "\n",
        "    tn, fp, fn, tp = get_confusion_matrix_elements(groundtruth_list, predicted_list)\n",
        "    \n",
        "    f1_score = (2 * tp) / ((2 * tp) + fp + fn)\n",
        "\n",
        "    return f1_score\n",
        "\n",
        "def get_validation_metrics(groundtruth,predicted):\n",
        "    \"\"\"Return all output metrics. Input is binary images\"\"\"\n",
        "   \n",
        "    u,v=np.shape(groundtruth)\n",
        "    groundtruth_list=np.reshape(groundtruth,(u*v,))\n",
        "    predicted_list=np.reshape(predicted,(u*v,))\n",
        "    prec,rec,IoU,acc=get_prec_rec_IoU_accuracy(groundtruth_list, predicted_list)\n",
        "    f1_score=get_f1_score(groundtruth_list, predicted_list)\n",
        "   # print(\"Precision=\",prec, \"Recall=\",rec, \"IoU=\",IoU, \"acc=\",acc, \"F1=\",f1_score)\n",
        "    return prec,rec,IoU,acc,f1_score\n",
        "\n",
        "def evalResult(gth_path,npyfile,target_size=img_size,flag_multi_class = False,num_class = 2):\n",
        "    files=sorted(os.listdir(gth_path))\n",
        "    #print(files)\n",
        "    prec=0\n",
        "    rec=0\n",
        "    acc=0\n",
        "    IoU=0\n",
        "    f1_score=0\n",
        "    for i,item in enumerate(npyfile):\n",
        "        img = item[:,:,0]\n",
        "        gth = io.imread(os.path.join(gth_path,files[i]))\n",
        "        gth = trans.resize(gth,target_size)\n",
        "        if(np.sum(img)>0):\n",
        "            img=np.array(((img - np.min(img))/np.ptp(img))>0.1).astype(float)\n",
        "        if(np.sum(gth)>0):\n",
        "            gth=np.array(((gth - np.min(gth))/np.ptp(gth))>0.1).astype(float)\n",
        "            gth=(gth>0.1).astype(int)\n",
        "        #print(np.shape(gth),np.shape(img))\n",
        "        p,r,I,a,f=get_validation_metrics(gth,img)\n",
        "        if (np.isnan(p)):\n",
        "          p=1\n",
        "        if (np.isnan(r)):\n",
        "          r=1\n",
        "        if (np.isnan(f)):\n",
        "          f=1\n",
        "        if (np.isnan(I)):\n",
        "          I=1\n",
        "        prec=prec+p\n",
        "        rec=rec+r\n",
        "        acc=acc+a\n",
        "        IoU=IoU+I\n",
        "        f1_score=f1_score+f\n",
        "    print(\"Precision=\",prec/(i+1), \"Recall=\",rec/(i+1), \"Jac=\",IoU/(i+1), \"acc=\",acc/(i+1), \"Dice=\",f1_score/(i+1))   "
      ],
      "execution_count": null,
      "outputs": []
    },
    {
      "cell_type": "markdown",
      "metadata": {
        "id": "036WjKyjkuit"
      },
      "source": [
        "# All definitions are now done! Lets start using the functions now...\n",
        "# B. Call to image data generator, model initialization, followed by model fitting."
      ]
    },
    {
      "cell_type": "code",
      "metadata": {
        "id": "mfzRaSRqkuit"
      },
      "source": [
        "#Step 1: Call to image data generator in keras\n",
        "\n",
        "os.chdir('/content/drive/MyDrive/Colab Notebooks/ISBI_paper/Data_Stacks/cirrus_2/test/')\n",
        "data_gen_args = dict(rotation_range=0.2,\n",
        "                    rescale=1./255,\n",
        "                    width_shift_range=0.2,\n",
        "                    height_shift_range=0.2,\n",
        "                    shear_range=0.1,\n",
        "                    zoom_range=[0.8,1],\n",
        "                    horizontal_flip=True,\n",
        "                    vertical_flip=True,\n",
        "                    fill_mode='nearest')\n",
        "PATH='./train/'"
      ],
      "execution_count": null,
      "outputs": []
    },
    {
      "cell_type": "code",
      "metadata": {
        "id": "wVuo91-zkuiu"
      },
      "source": [
        "data_gen = trainGenerator(3,PATH,'Image','GT',data_gen_args, save_to_dir = None)"
      ],
      "execution_count": null,
      "outputs": []
    },
    {
      "cell_type": "code",
      "metadata": {
        "id": "iaKBXrQykuiu"
      },
      "source": [
        "\n",
        "# data_gen = trainGenerator(1,PATH,'Image','GT',data_gen_args, save_to_dir = None)\n",
        "# for e in range(5):\n",
        "#     print('Epoch', e)\n",
        "#     batches = 0\n",
        "#     for x_batch, y_batch in data_gen:\n",
        "#         print(np.max(x_batch))\n",
        "#         plt.imshow(np.squeeze(x_batch), cmap=plt.get_cmap('gray'))\n",
        "        \n",
        "\n",
        "#         plt.show()\n",
        "        \n",
        "#         break"
      ],
      "execution_count": null,
      "outputs": []
    },
    {
      "cell_type": "code",
      "metadata": {
        "id": "bKM5tKtWkuiv"
      },
      "source": [
        "#Step 2: Initialize the model. Train from scratch!\n",
        "# Initialize model like you usually do.\n",
        "#tf.keras.backend.clear_session()\n",
        "#mod.compile(optimizer = Adam(learning_rate=0.00001), loss = bce_dice_loss, metrics = dice_coef)\n",
        "#mod.compile(optimizer = Adam(learning_rate=0.0001), loss = \"binary_crossentropy\", metrics = \"acc\")\n",
        "mod.compile(optimizer = Adam(learning_rate=0.0001), loss = dice_coef_loss, metrics = dice_coef)"
      ],
      "execution_count": null,
      "outputs": []
    },
    {
      "cell_type": "code",
      "metadata": {
        "colab": {
          "base_uri": "https://localhost:8080/"
        },
        "id": "c_W_oAgLqG3J",
        "outputId": "07bd5c74-f8b6-4833-88f6-6e5241a75ba2"
      },
      "source": [
        "# Notice WandbCallback is used as a regular callback\n",
        "# We again use config\n",
        "hist = mod.fit(data_gen,steps_per_epoch=10,epochs=60,verbose=1)\n",
        "          #        mod.fit(x_train, y_train,\n",
        "          # epochs=50, \n",
        "          # batch_size=5, verbose=1)"
      ],
      "execution_count": null,
      "outputs": [
        {
          "output_type": "stream",
          "name": "stdout",
          "text": [
            "Found 6 images belonging to 1 classes.\n",
            "Found 6 images belonging to 1 classes.\n",
            "Epoch 1/60\n",
            "10/10 [==============================] - 7s 85ms/step - loss: -0.1148 - output_1_loss: -0.0272 - output_2_loss: -0.0277 - output_3_loss: -0.0277 - output_4_loss: -0.0323 - output_1_dice_coef: 0.0272 - output_2_dice_coef: 0.0277 - output_3_dice_coef: 0.0277 - output_4_dice_coef: 0.0323\n",
            "Epoch 2/60\n",
            "10/10 [==============================] - 1s 85ms/step - loss: -0.1780 - output_1_loss: -0.0332 - output_2_loss: -0.0459 - output_3_loss: -0.0468 - output_4_loss: -0.0521 - output_1_dice_coef: 0.0332 - output_2_dice_coef: 0.0459 - output_3_dice_coef: 0.0468 - output_4_dice_coef: 0.0521\n",
            "Epoch 3/60\n",
            "10/10 [==============================] - 1s 85ms/step - loss: -0.3563 - output_1_loss: -0.0364 - output_2_loss: -0.0746 - output_3_loss: -0.0730 - output_4_loss: -0.1723 - output_1_dice_coef: 0.0364 - output_2_dice_coef: 0.0746 - output_3_dice_coef: 0.0730 - output_4_dice_coef: 0.1723\n",
            "Epoch 4/60\n",
            "10/10 [==============================] - 1s 85ms/step - loss: -0.9140 - output_1_loss: -0.0412 - output_2_loss: -0.1742 - output_3_loss: -0.2585 - output_4_loss: -0.4401 - output_1_dice_coef: 0.0412 - output_2_dice_coef: 0.1742 - output_3_dice_coef: 0.2585 - output_4_dice_coef: 0.4401\n",
            "Epoch 5/60\n",
            "10/10 [==============================] - 1s 84ms/step - loss: -1.4210 - output_1_loss: -0.0391 - output_2_loss: -0.3182 - output_3_loss: -0.4624 - output_4_loss: -0.6013 - output_1_dice_coef: 0.0391 - output_2_dice_coef: 0.3182 - output_3_dice_coef: 0.4624 - output_4_dice_coef: 0.6013\n",
            "Epoch 6/60\n",
            "10/10 [==============================] - 1s 84ms/step - loss: -1.8108 - output_1_loss: -0.0485 - output_2_loss: -0.4403 - output_3_loss: -0.6088 - output_4_loss: -0.7132 - output_1_dice_coef: 0.0485 - output_2_dice_coef: 0.4403 - output_3_dice_coef: 0.6088 - output_4_dice_coef: 0.7132\n",
            "Epoch 7/60\n",
            "10/10 [==============================] - 1s 84ms/step - loss: -2.0231 - output_1_loss: -0.0467 - output_2_loss: -0.5127 - output_3_loss: -0.6993 - output_4_loss: -0.7643 - output_1_dice_coef: 0.0467 - output_2_dice_coef: 0.5127 - output_3_dice_coef: 0.6993 - output_4_dice_coef: 0.7643\n",
            "Epoch 8/60\n",
            "10/10 [==============================] - 1s 84ms/step - loss: -2.0757 - output_1_loss: -0.0426 - output_2_loss: -0.5433 - output_3_loss: -0.7159 - output_4_loss: -0.7739 - output_1_dice_coef: 0.0426 - output_2_dice_coef: 0.5433 - output_3_dice_coef: 0.7159 - output_4_dice_coef: 0.7739\n",
            "Epoch 9/60\n",
            "10/10 [==============================] - 1s 84ms/step - loss: -2.3045 - output_1_loss: -0.0540 - output_2_loss: -0.6221 - output_3_loss: -0.8018 - output_4_loss: -0.8266 - output_1_dice_coef: 0.0540 - output_2_dice_coef: 0.6221 - output_3_dice_coef: 0.8018 - output_4_dice_coef: 0.8266\n",
            "Epoch 10/60\n",
            "10/10 [==============================] - 1s 84ms/step - loss: -2.2145 - output_1_loss: -0.0548 - output_2_loss: -0.6015 - output_3_loss: -0.7676 - output_4_loss: -0.7905 - output_1_dice_coef: 0.0548 - output_2_dice_coef: 0.6015 - output_3_dice_coef: 0.7676 - output_4_dice_coef: 0.7905\n",
            "Epoch 11/60\n",
            "10/10 [==============================] - 1s 84ms/step - loss: -2.2036 - output_1_loss: -0.0526 - output_2_loss: -0.6067 - output_3_loss: -0.7646 - output_4_loss: -0.7798 - output_1_dice_coef: 0.0526 - output_2_dice_coef: 0.6067 - output_3_dice_coef: 0.7646 - output_4_dice_coef: 0.7798\n",
            "Epoch 12/60\n",
            "10/10 [==============================] - 1s 83ms/step - loss: -2.1627 - output_1_loss: -0.0502 - output_2_loss: -0.5828 - output_3_loss: -0.7476 - output_4_loss: -0.7822 - output_1_dice_coef: 0.0502 - output_2_dice_coef: 0.5828 - output_3_dice_coef: 0.7476 - output_4_dice_coef: 0.7822\n",
            "Epoch 13/60\n",
            "10/10 [==============================] - 1s 83ms/step - loss: -2.2421 - output_1_loss: -0.0633 - output_2_loss: -0.6164 - output_3_loss: -0.7746 - output_4_loss: -0.7878 - output_1_dice_coef: 0.0633 - output_2_dice_coef: 0.6164 - output_3_dice_coef: 0.7746 - output_4_dice_coef: 0.7878\n",
            "Epoch 14/60\n",
            "10/10 [==============================] - 1s 84ms/step - loss: -2.3402 - output_1_loss: -0.0576 - output_2_loss: -0.6424 - output_3_loss: -0.8122 - output_4_loss: -0.8280 - output_1_dice_coef: 0.0576 - output_2_dice_coef: 0.6424 - output_3_dice_coef: 0.8122 - output_4_dice_coef: 0.8280\n",
            "Epoch 15/60\n",
            "10/10 [==============================] - 1s 84ms/step - loss: -2.4370 - output_1_loss: -0.0660 - output_2_loss: -0.6795 - output_3_loss: -0.8399 - output_4_loss: -0.8516 - output_1_dice_coef: 0.0660 - output_2_dice_coef: 0.6795 - output_3_dice_coef: 0.8399 - output_4_dice_coef: 0.8516\n",
            "Epoch 16/60\n",
            "10/10 [==============================] - 1s 83ms/step - loss: -2.4293 - output_1_loss: -0.0622 - output_2_loss: -0.6719 - output_3_loss: -0.8392 - output_4_loss: -0.8560 - output_1_dice_coef: 0.0622 - output_2_dice_coef: 0.6719 - output_3_dice_coef: 0.8392 - output_4_dice_coef: 0.8560\n",
            "Epoch 17/60\n",
            "10/10 [==============================] - 1s 84ms/step - loss: -2.2890 - output_1_loss: -0.0573 - output_2_loss: -0.6027 - output_3_loss: -0.8060 - output_4_loss: -0.8230 - output_1_dice_coef: 0.0573 - output_2_dice_coef: 0.6027 - output_3_dice_coef: 0.8060 - output_4_dice_coef: 0.8230\n",
            "Epoch 18/60\n",
            "10/10 [==============================] - 1s 84ms/step - loss: -2.4588 - output_1_loss: -0.0631 - output_2_loss: -0.7043 - output_3_loss: -0.8399 - output_4_loss: -0.8515 - output_1_dice_coef: 0.0631 - output_2_dice_coef: 0.7043 - output_3_dice_coef: 0.8399 - output_4_dice_coef: 0.8515\n",
            "Epoch 19/60\n",
            "10/10 [==============================] - 1s 85ms/step - loss: -2.4873 - output_1_loss: -0.0631 - output_2_loss: -0.7025 - output_3_loss: -0.8581 - output_4_loss: -0.8636 - output_1_dice_coef: 0.0631 - output_2_dice_coef: 0.7025 - output_3_dice_coef: 0.8581 - output_4_dice_coef: 0.8636\n",
            "Epoch 20/60\n",
            "10/10 [==============================] - 1s 85ms/step - loss: -2.5297 - output_1_loss: -0.0722 - output_2_loss: -0.7156 - output_3_loss: -0.8681 - output_4_loss: -0.8738 - output_1_dice_coef: 0.0722 - output_2_dice_coef: 0.7156 - output_3_dice_coef: 0.8681 - output_4_dice_coef: 0.8738\n",
            "Epoch 21/60\n",
            "10/10 [==============================] - 1s 85ms/step - loss: -2.4842 - output_1_loss: -0.0770 - output_2_loss: -0.7127 - output_3_loss: -0.8446 - output_4_loss: -0.8499 - output_1_dice_coef: 0.0770 - output_2_dice_coef: 0.7127 - output_3_dice_coef: 0.8446 - output_4_dice_coef: 0.8499\n",
            "Epoch 22/60\n",
            "10/10 [==============================] - 1s 84ms/step - loss: -2.5440 - output_1_loss: -0.0738 - output_2_loss: -0.7432 - output_3_loss: -0.8637 - output_4_loss: -0.8633 - output_1_dice_coef: 0.0738 - output_2_dice_coef: 0.7432 - output_3_dice_coef: 0.8637 - output_4_dice_coef: 0.8633\n",
            "Epoch 23/60\n",
            "10/10 [==============================] - 1s 84ms/step - loss: -2.5337 - output_1_loss: -0.0920 - output_2_loss: -0.7100 - output_3_loss: -0.8569 - output_4_loss: -0.8748 - output_1_dice_coef: 0.0920 - output_2_dice_coef: 0.7100 - output_3_dice_coef: 0.8569 - output_4_dice_coef: 0.8748\n",
            "Epoch 24/60\n",
            "10/10 [==============================] - 1s 84ms/step - loss: -2.4861 - output_1_loss: -0.1034 - output_2_loss: -0.7022 - output_3_loss: -0.8338 - output_4_loss: -0.8466 - output_1_dice_coef: 0.1034 - output_2_dice_coef: 0.7022 - output_3_dice_coef: 0.8338 - output_4_dice_coef: 0.8466\n",
            "Epoch 25/60\n",
            "10/10 [==============================] - 1s 84ms/step - loss: -2.5248 - output_1_loss: -0.1327 - output_2_loss: -0.7107 - output_3_loss: -0.8313 - output_4_loss: -0.8501 - output_1_dice_coef: 0.1327 - output_2_dice_coef: 0.7107 - output_3_dice_coef: 0.8313 - output_4_dice_coef: 0.8501\n",
            "Epoch 26/60\n",
            "10/10 [==============================] - 1s 84ms/step - loss: -2.6237 - output_1_loss: -0.1638 - output_2_loss: -0.7343 - output_3_loss: -0.8625 - output_4_loss: -0.8632 - output_1_dice_coef: 0.1638 - output_2_dice_coef: 0.7343 - output_3_dice_coef: 0.8625 - output_4_dice_coef: 0.8632\n",
            "Epoch 27/60\n",
            "10/10 [==============================] - 1s 84ms/step - loss: -2.7373 - output_1_loss: -0.2138 - output_2_loss: -0.7664 - output_3_loss: -0.8780 - output_4_loss: -0.8791 - output_1_dice_coef: 0.2138 - output_2_dice_coef: 0.7664 - output_3_dice_coef: 0.8780 - output_4_dice_coef: 0.8791\n",
            "Epoch 28/60\n",
            "10/10 [==============================] - 1s 84ms/step - loss: -2.7348 - output_1_loss: -0.2398 - output_2_loss: -0.7627 - output_3_loss: -0.8633 - output_4_loss: -0.8690 - output_1_dice_coef: 0.2398 - output_2_dice_coef: 0.7627 - output_3_dice_coef: 0.8633 - output_4_dice_coef: 0.8690\n",
            "Epoch 29/60\n",
            "10/10 [==============================] - 1s 84ms/step - loss: -2.7792 - output_1_loss: -0.2890 - output_2_loss: -0.7457 - output_3_loss: -0.8685 - output_4_loss: -0.8759 - output_1_dice_coef: 0.2890 - output_2_dice_coef: 0.7457 - output_3_dice_coef: 0.8685 - output_4_dice_coef: 0.8759\n",
            "Epoch 30/60\n",
            "10/10 [==============================] - 1s 85ms/step - loss: -2.8394 - output_1_loss: -0.3200 - output_2_loss: -0.7783 - output_3_loss: -0.8643 - output_4_loss: -0.8768 - output_1_dice_coef: 0.3200 - output_2_dice_coef: 0.7783 - output_3_dice_coef: 0.8643 - output_4_dice_coef: 0.8768\n",
            "Epoch 31/60\n",
            "10/10 [==============================] - 1s 85ms/step - loss: -2.8373 - output_1_loss: -0.3281 - output_2_loss: -0.7741 - output_3_loss: -0.8636 - output_4_loss: -0.8714 - output_1_dice_coef: 0.3281 - output_2_dice_coef: 0.7741 - output_3_dice_coef: 0.8636 - output_4_dice_coef: 0.8714\n",
            "Epoch 32/60\n",
            "10/10 [==============================] - 1s 83ms/step - loss: -2.9619 - output_1_loss: -0.3553 - output_2_loss: -0.8144 - output_3_loss: -0.8941 - output_4_loss: -0.8982 - output_1_dice_coef: 0.3553 - output_2_dice_coef: 0.8144 - output_3_dice_coef: 0.8941 - output_4_dice_coef: 0.8982\n",
            "Epoch 33/60\n",
            "10/10 [==============================] - 1s 85ms/step - loss: -2.8640 - output_1_loss: -0.3504 - output_2_loss: -0.7669 - output_3_loss: -0.8705 - output_4_loss: -0.8761 - output_1_dice_coef: 0.3504 - output_2_dice_coef: 0.7669 - output_3_dice_coef: 0.8705 - output_4_dice_coef: 0.8761\n",
            "Epoch 34/60\n",
            "10/10 [==============================] - 1s 86ms/step - loss: -2.9571 - output_1_loss: -0.3717 - output_2_loss: -0.8142 - output_3_loss: -0.8844 - output_4_loss: -0.8868 - output_1_dice_coef: 0.3717 - output_2_dice_coef: 0.8142 - output_3_dice_coef: 0.8844 - output_4_dice_coef: 0.8868\n",
            "Epoch 35/60\n",
            "10/10 [==============================] - 1s 85ms/step - loss: -2.9646 - output_1_loss: -0.3742 - output_2_loss: -0.8150 - output_3_loss: -0.8859 - output_4_loss: -0.8896 - output_1_dice_coef: 0.3742 - output_2_dice_coef: 0.8150 - output_3_dice_coef: 0.8859 - output_4_dice_coef: 0.8896\n",
            "Epoch 36/60\n",
            "10/10 [==============================] - 1s 84ms/step - loss: -3.0143 - output_1_loss: -0.4007 - output_2_loss: -0.8233 - output_3_loss: -0.8926 - output_4_loss: -0.8976 - output_1_dice_coef: 0.4007 - output_2_dice_coef: 0.8233 - output_3_dice_coef: 0.8926 - output_4_dice_coef: 0.8976\n",
            "Epoch 37/60\n",
            "10/10 [==============================] - 1s 85ms/step - loss: -2.9957 - output_1_loss: -0.4059 - output_2_loss: -0.8111 - output_3_loss: -0.8870 - output_4_loss: -0.8918 - output_1_dice_coef: 0.4059 - output_2_dice_coef: 0.8111 - output_3_dice_coef: 0.8870 - output_4_dice_coef: 0.8918\n",
            "Epoch 38/60\n",
            "10/10 [==============================] - 1s 85ms/step - loss: -2.9619 - output_1_loss: -0.3922 - output_2_loss: -0.7961 - output_3_loss: -0.8829 - output_4_loss: -0.8907 - output_1_dice_coef: 0.3922 - output_2_dice_coef: 0.7961 - output_3_dice_coef: 0.8829 - output_4_dice_coef: 0.8907\n",
            "Epoch 39/60\n",
            "10/10 [==============================] - 1s 84ms/step - loss: -3.0003 - output_1_loss: -0.4006 - output_2_loss: -0.8237 - output_3_loss: -0.8868 - output_4_loss: -0.8892 - output_1_dice_coef: 0.4006 - output_2_dice_coef: 0.8237 - output_3_dice_coef: 0.8868 - output_4_dice_coef: 0.8892\n",
            "Epoch 40/60\n",
            "10/10 [==============================] - 1s 85ms/step - loss: -3.0357 - output_1_loss: -0.4076 - output_2_loss: -0.8305 - output_3_loss: -0.8974 - output_4_loss: -0.9002 - output_1_dice_coef: 0.4076 - output_2_dice_coef: 0.8305 - output_3_dice_coef: 0.8974 - output_4_dice_coef: 0.9002\n",
            "Epoch 41/60\n",
            "10/10 [==============================] - 1s 84ms/step - loss: -3.0694 - output_1_loss: -0.4201 - output_2_loss: -0.8523 - output_3_loss: -0.8969 - output_4_loss: -0.9002 - output_1_dice_coef: 0.4201 - output_2_dice_coef: 0.8523 - output_3_dice_coef: 0.8969 - output_4_dice_coef: 0.9002\n",
            "Epoch 42/60\n",
            "10/10 [==============================] - 1s 85ms/step - loss: -2.9901 - output_1_loss: -0.4189 - output_2_loss: -0.8030 - output_3_loss: -0.8812 - output_4_loss: -0.8870 - output_1_dice_coef: 0.4189 - output_2_dice_coef: 0.8030 - output_3_dice_coef: 0.8812 - output_4_dice_coef: 0.8870\n",
            "Epoch 43/60\n",
            "10/10 [==============================] - 1s 85ms/step - loss: -2.9508 - output_1_loss: -0.3925 - output_2_loss: -0.7922 - output_3_loss: -0.8818 - output_4_loss: -0.8843 - output_1_dice_coef: 0.3925 - output_2_dice_coef: 0.7922 - output_3_dice_coef: 0.8818 - output_4_dice_coef: 0.8843\n",
            "Epoch 44/60\n",
            "10/10 [==============================] - 1s 84ms/step - loss: -2.9987 - output_1_loss: -0.4124 - output_2_loss: -0.8047 - output_3_loss: -0.8884 - output_4_loss: -0.8933 - output_1_dice_coef: 0.4124 - output_2_dice_coef: 0.8047 - output_3_dice_coef: 0.8884 - output_4_dice_coef: 0.8933\n",
            "Epoch 45/60\n",
            "10/10 [==============================] - 1s 84ms/step - loss: -3.0700 - output_1_loss: -0.4275 - output_2_loss: -0.8426 - output_3_loss: -0.8979 - output_4_loss: -0.9021 - output_1_dice_coef: 0.4275 - output_2_dice_coef: 0.8426 - output_3_dice_coef: 0.8979 - output_4_dice_coef: 0.9021\n",
            "Epoch 46/60\n",
            "10/10 [==============================] - 1s 84ms/step - loss: -2.9767 - output_1_loss: -0.4128 - output_2_loss: -0.8027 - output_3_loss: -0.8780 - output_4_loss: -0.8832 - output_1_dice_coef: 0.4128 - output_2_dice_coef: 0.8027 - output_3_dice_coef: 0.8780 - output_4_dice_coef: 0.8832\n",
            "Epoch 47/60\n",
            "10/10 [==============================] - 1s 85ms/step - loss: -3.1034 - output_1_loss: -0.4440 - output_2_loss: -0.8494 - output_3_loss: -0.9039 - output_4_loss: -0.9061 - output_1_dice_coef: 0.4440 - output_2_dice_coef: 0.8494 - output_3_dice_coef: 0.9039 - output_4_dice_coef: 0.9061\n",
            "Epoch 48/60\n",
            "10/10 [==============================] - 1s 85ms/step - loss: -3.0505 - output_1_loss: -0.4316 - output_2_loss: -0.8276 - output_3_loss: -0.8920 - output_4_loss: -0.8993 - output_1_dice_coef: 0.4316 - output_2_dice_coef: 0.8276 - output_3_dice_coef: 0.8920 - output_4_dice_coef: 0.8993\n",
            "Epoch 49/60\n",
            "10/10 [==============================] - 1s 85ms/step - loss: -3.0601 - output_1_loss: -0.4410 - output_2_loss: -0.8311 - output_3_loss: -0.8923 - output_4_loss: -0.8957 - output_1_dice_coef: 0.4410 - output_2_dice_coef: 0.8311 - output_3_dice_coef: 0.8923 - output_4_dice_coef: 0.8957\n",
            "Epoch 50/60\n",
            "10/10 [==============================] - 1s 84ms/step - loss: -3.0648 - output_1_loss: -0.4246 - output_2_loss: -0.8330 - output_3_loss: -0.9027 - output_4_loss: -0.9045 - output_1_dice_coef: 0.4246 - output_2_dice_coef: 0.8330 - output_3_dice_coef: 0.9027 - output_4_dice_coef: 0.9045\n",
            "Epoch 51/60\n",
            "10/10 [==============================] - 1s 84ms/step - loss: -2.9973 - output_1_loss: -0.4151 - output_2_loss: -0.8164 - output_3_loss: -0.8814 - output_4_loss: -0.8844 - output_1_dice_coef: 0.4151 - output_2_dice_coef: 0.8164 - output_3_dice_coef: 0.8814 - output_4_dice_coef: 0.8844\n",
            "Epoch 52/60\n",
            "10/10 [==============================] - 1s 84ms/step - loss: -3.0125 - output_1_loss: -0.4218 - output_2_loss: -0.8214 - output_3_loss: -0.8812 - output_4_loss: -0.8881 - output_1_dice_coef: 0.4218 - output_2_dice_coef: 0.8214 - output_3_dice_coef: 0.8812 - output_4_dice_coef: 0.8881\n",
            "Epoch 53/60\n",
            "10/10 [==============================] - 1s 85ms/step - loss: -3.1150 - output_1_loss: -0.4482 - output_2_loss: -0.8539 - output_3_loss: -0.9052 - output_4_loss: -0.9077 - output_1_dice_coef: 0.4482 - output_2_dice_coef: 0.8539 - output_3_dice_coef: 0.9052 - output_4_dice_coef: 0.9077\n",
            "Epoch 54/60\n",
            "10/10 [==============================] - 1s 84ms/step - loss: -3.0234 - output_1_loss: -0.4427 - output_2_loss: -0.8159 - output_3_loss: -0.8803 - output_4_loss: -0.8845 - output_1_dice_coef: 0.4427 - output_2_dice_coef: 0.8159 - output_3_dice_coef: 0.8803 - output_4_dice_coef: 0.8845\n",
            "Epoch 55/60\n",
            "10/10 [==============================] - 1s 84ms/step - loss: -3.0812 - output_1_loss: -0.4469 - output_2_loss: -0.8358 - output_3_loss: -0.8974 - output_4_loss: -0.9010 - output_1_dice_coef: 0.4469 - output_2_dice_coef: 0.8358 - output_3_dice_coef: 0.8974 - output_4_dice_coef: 0.9010\n",
            "Epoch 56/60\n",
            "10/10 [==============================] - 1s 85ms/step - loss: -3.1161 - output_1_loss: -0.4468 - output_2_loss: -0.8559 - output_3_loss: -0.9055 - output_4_loss: -0.9078 - output_1_dice_coef: 0.4468 - output_2_dice_coef: 0.8559 - output_3_dice_coef: 0.9055 - output_4_dice_coef: 0.9078\n",
            "Epoch 57/60\n",
            "10/10 [==============================] - 1s 84ms/step - loss: -3.0605 - output_1_loss: -0.4308 - output_2_loss: -0.8436 - output_3_loss: -0.8908 - output_4_loss: -0.8951 - output_1_dice_coef: 0.4308 - output_2_dice_coef: 0.8436 - output_3_dice_coef: 0.8908 - output_4_dice_coef: 0.8951\n",
            "Epoch 58/60\n",
            "10/10 [==============================] - 1s 85ms/step - loss: -3.0834 - output_1_loss: -0.4455 - output_2_loss: -0.8507 - output_3_loss: -0.8929 - output_4_loss: -0.8943 - output_1_dice_coef: 0.4455 - output_2_dice_coef: 0.8507 - output_3_dice_coef: 0.8929 - output_4_dice_coef: 0.8943\n",
            "Epoch 59/60\n",
            "10/10 [==============================] - 1s 86ms/step - loss: -3.1437 - output_1_loss: -0.4567 - output_2_loss: -0.8710 - output_3_loss: -0.9084 - output_4_loss: -0.9076 - output_1_dice_coef: 0.4567 - output_2_dice_coef: 0.8710 - output_3_dice_coef: 0.9084 - output_4_dice_coef: 0.9076\n",
            "Epoch 60/60\n",
            "10/10 [==============================] - 1s 85ms/step - loss: -3.1041 - output_1_loss: -0.4551 - output_2_loss: -0.8445 - output_3_loss: -0.9010 - output_4_loss: -0.9035 - output_1_dice_coef: 0.4551 - output_2_dice_coef: 0.8445 - output_3_dice_coef: 0.9010 - output_4_dice_coef: 0.9035\n"
          ]
        }
      ]
    },
    {
      "cell_type": "code",
      "metadata": {
        "colab": {
          "base_uri": "https://localhost:8080/",
          "height": 298
        },
        "id": "_qSqh_CQAWqs",
        "outputId": "780464ca-b6ae-450e-f9f0-c3d8b7d6ed04"
      },
      "source": [
        "plt.plot(hist.history['output_1_loss'])\n",
        "plt.plot(hist.history['output_2_loss'])\n",
        "plt.plot(hist.history['output_3_loss'])\n",
        "plt.plot(hist.history['output_4_loss'])\n",
        "plt.xlabel('Epochs')\n",
        "plt.ylabel('Level Loss')\n",
        "#plt.plot(hist.history['loss'])"
      ],
      "execution_count": null,
      "outputs": [
        {
          "output_type": "execute_result",
          "data": {
            "text/plain": [
              "Text(0, 0.5, 'Level Loss')"
            ]
          },
          "metadata": {},
          "execution_count": 22
        },
        {
          "output_type": "display_data",
          "data": {
            "image/png": "[encoded data removed]",
            "text/plain": [
              "<Figure size 432x288 with 1 Axes>"
            ]
          },
          "metadata": {
            "needs_background": "light"
          }
        }
      ]
    },
    {
      "cell_type": "markdown",
      "metadata": {
        "id": "bPQAhlUYkuiw"
      },
      "source": [
        "# Generate results!"
      ]
    },
    {
      "cell_type": "code",
      "metadata": {
        "colab": {
          "base_uri": "https://localhost:8080/",
          "height": 36
        },
        "id": "N98LiMO3KlWG",
        "outputId": "34c8a910-d8c7-40f2-f9ed-16565e7bae73"
      },
      "source": [
        "PATH"
      ],
      "execution_count": null,
      "outputs": [
        {
          "output_type": "execute_result",
          "data": {
            "application/vnd.google.colaboratory.intrinsic+json": {
              "type": "string"
            },
            "text/plain": [
              "'./train/'"
            ]
          },
          "metadata": {},
          "execution_count": 23
        }
      ]
    },
    {
      "cell_type": "code",
      "metadata": {
        "id": "M0U1YHs_kuix",
        "scrolled": true,
        "colab": {
          "base_uri": "https://localhost:8080/"
        },
        "outputId": "d4725690-a36d-4d27-b91b-32b8850fc9c0"
      },
      "source": [
        "#Step 1: Run model on test images and save the images\n",
        "#number of test images\n",
        "n_i=len(os.listdir('./test/Image/'))\n",
        "#Call test generator\n",
        "test_gen= testGenerator('./test/Image/')\n",
        "print(n_i)\n"
      ],
      "execution_count": null,
      "outputs": [
        {
          "output_type": "stream",
          "name": "stdout",
          "text": [
            "18\n"
          ]
        }
      ]
    },
    {
      "cell_type": "code",
      "metadata": {
        "colab": {
          "base_uri": "https://localhost:8080/"
        },
        "id": "MVXSN849qZ5E",
        "outputId": "d0340027-de6e-442b-f290-6d089e7bac8a"
      },
      "source": [
        "#Return model outcome for each test image\n",
        "results = mod.predict_generator(test_gen,n_i,verbose=1)"
      ],
      "execution_count": null,
      "outputs": [
        {
          "output_type": "stream",
          "name": "stdout",
          "text": [
            "bscan_69.jpg\n"
          ]
        },
        {
          "output_type": "stream",
          "name": "stderr",
          "text": [
            "/usr/local/lib/python3.7/dist-packages/keras/engine/training.py:2035: UserWarning: `Model.predict_generator` is deprecated and will be removed in a future version. Please use `Model.predict`, which supports generators.\n",
            "  warnings.warn('`Model.predict_generator` is deprecated and '\n"
          ]
        },
        {
          "output_type": "stream",
          "name": "stdout",
          "text": [
            "bscan_70.jpg\n",
            " 1/18 [>.............................] - ETA: 16sbscan_73.jpg\n",
            "bscan_74.jpg\n",
            "bscan_76.jpg\n",
            "bscan_77.jpg\n",
            " 5/18 [=======>......................] - ETA: 0s bscan_79.jpg\n",
            "bscan_80.jpg\n",
            "bscan_81.jpg\n",
            "bscan_82.jpg\n",
            " 9/18 [==============>...............] - ETA: 0sbscan_83.jpg\n",
            "bscan_85.jpg\n",
            "bscan_87.jpg\n",
            "bscan_88.jpg\n",
            "13/18 [====================>.........] - ETA: 0sbscan_89.jpg\n",
            "bscan_90.jpg\n",
            "bscan_96.jpg\n",
            "bscan_98.jpg\n",
            "18/18 [==============================] - 1s 17ms/step\n"
          ]
        }
      ]
    },
    {
      "cell_type": "code",
      "metadata": {
        "id": "XyJe_Nc9x3Dy"
      },
      "source": [
        "#lung_masks=np.load('masks.npy')"
      ],
      "execution_count": null,
      "outputs": []
    },
    {
      "cell_type": "code",
      "metadata": {
        "id": "9pdVWd7u0J_t"
      },
      "source": [
        "# plt.imshow(1-lung_masks[0][:,:,3])\n",
        "# print(np.shape(results), np.shape(lung_masks))"
      ],
      "execution_count": null,
      "outputs": []
    },
    {
      "cell_type": "markdown",
      "metadata": {
        "id": "3e3_JbInsPLl"
      },
      "source": [
        "# Next, we need to mask each result and evaluate on test data only"
      ]
    },
    {
      "cell_type": "code",
      "metadata": {
        "id": "gkg1f18ovbSX"
      },
      "source": [
        "# def evalResult_with_masks(gth_path,npyfile,masks,num_test,target_size=img_size,flag_multi_class = False,num_class = 2):\n",
        "#     files=sorted(os.listdir(gth_path))\n",
        "#     #print(files)\n",
        "#     prec=0\n",
        "#     rec=0\n",
        "#     acc=0\n",
        "#     IoU=0\n",
        "#     f1_score=0\n",
        "#     for i,item in enumerate(npyfile):\n",
        "#       img = item[:,:,0]\n",
        "#       if i in num_test:\n",
        "#           gth = io.imread(os.path.join(gth_path,files[nums[i]]))\n",
        "#           mask=1-masks[i][:,:,3]\n",
        "#           mask=trans.resize(mask,target_size)\n",
        "#           gth = trans.resize(gth,target_size)\n",
        "#           img=img*mask\n",
        "#           if(np.sum(img)>0):\n",
        "#               img=np.array(((img - np.min(img))/np.ptp(img))>0.5).astype(float)\n",
        "#           if(np.sum(gth)>0):\n",
        "#               gth=np.array(((gth - np.min(gth))/np.ptp(gth))>0.5).astype(float)\n",
        "#               gth=(gth>0.5).astype(int)\n",
        "#           #print(np.shape(gth),np.shape(img))\n",
        "#           p,r,I,a,f=get_validation_metrics(gth[:,:,1],img)\n",
        "#       if (np.isnan(p)):\n",
        "#               p=1\n",
        "#       if (np.isnan(r)):\n",
        "#               r=1\n",
        "#       if (np.isnan(f)):\n",
        "#               f=1\n",
        "#       if (np.isnan(I)):\n",
        "#               I=1\n",
        "#       prec=prec+p\n",
        "#       rec=rec+r\n",
        "#       acc=acc+a\n",
        "#       IoU=IoU+I\n",
        "#       f1_score=f1_score+f\n",
        "#     print(\"Precision=\",prec/len(num_test), \"Recall=\",rec/len(num_test), \"Jac=\",IoU/len(num_test), \"acc=\",acc/len(num_test), \"Dice=\",f1_score/len(num_test))   "
      ],
      "execution_count": null,
      "outputs": []
    },
    {
      "cell_type": "code",
      "metadata": {
        "colab": {
          "base_uri": "https://localhost:8080/"
        },
        "id": "VLIWB_tegCSM",
        "outputId": "2cd9c9f8-51e9-4434-a3b7-6d8e1f737b08"
      },
      "source": [
        "#Lets save the STARE predictions\n",
        "saveResult('./test/Image/','./pred/',results)"
      ],
      "execution_count": null,
      "outputs": [
        {
          "output_type": "stream",
          "name": "stderr",
          "text": [
            "/usr/local/lib/python3.7/dist-packages/ipykernel_launcher.py:21: UserWarning: ./pred/bscan_83.jpg is a low contrast image\n",
            "WARNING:root:Lossy conversion from float32 to uint8. Range [0, 1]. Convert image to uint8 prior to saving to suppress this warning.\n",
            "/usr/local/lib/python3.7/dist-packages/ipykernel_launcher.py:21: UserWarning: ./pred/bscan_74.jpg is a low contrast image\n",
            "WARNING:root:Lossy conversion from float32 to uint8. Range [0, 1]. Convert image to uint8 prior to saving to suppress this warning.\n",
            "/usr/local/lib/python3.7/dist-packages/ipykernel_launcher.py:21: UserWarning: ./pred/bscan_88.jpg is a low contrast image\n",
            "WARNING:root:Lossy conversion from float32 to uint8. Range [0, 1]. Convert image to uint8 prior to saving to suppress this warning.\n",
            "/usr/local/lib/python3.7/dist-packages/ipykernel_launcher.py:21: UserWarning: ./pred/bscan_87.jpg is a low contrast image\n",
            "WARNING:root:Lossy conversion from float32 to uint8. Range [0, 1]. Convert image to uint8 prior to saving to suppress this warning.\n"
          ]
        }
      ]
    },
    {
      "cell_type": "code",
      "metadata": {
        "colab": {
          "base_uri": "https://localhost:8080/"
        },
        "id": "ZfD34ZQ9zkQd",
        "outputId": "d3a6283e-0a6b-4512-930f-dab17815ccaa"
      },
      "source": [
        "np.shape(results[0])"
      ],
      "execution_count": null,
      "outputs": [
        {
          "output_type": "execute_result",
          "data": {
            "text/plain": [
              "(18, 256, 256, 1)"
            ]
          },
          "metadata": {},
          "execution_count": 30
        }
      ]
    },
    {
      "cell_type": "code",
      "metadata": {
        "colab": {
          "base_uri": "https://localhost:8080/"
        },
        "id": "9uujuzlq5-6G",
        "outputId": "af7a2ab7-2284-4ebd-d32b-aec2aa6fa07b"
      },
      "source": [
        "evalResult('./test/GT/',results[0])"
      ],
      "execution_count": null,
      "outputs": [
        {
          "output_type": "stream",
          "name": "stdout",
          "text": [
            "Precision= 0.5757476852767267 Recall= 0.2992220493702278 Jac= 0.24164536404386489 acc= 0.9822658962673612 Dice= 0.3714190563605396\n"
          ]
        }
      ]
    },
    {
      "cell_type": "code",
      "metadata": {
        "id": "2ilPrrZDavOq",
        "colab": {
          "base_uri": "https://localhost:8080/"
        },
        "outputId": "becadede-8767-4bdc-acd4-a03c7374dcf3"
      },
      "source": [
        "evalResult('./test/GT/',results[2])"
      ],
      "execution_count": null,
      "outputs": [
        {
          "output_type": "stream",
          "name": "stdout",
          "text": [
            "Precision= 0.7574023375538704 Recall= 0.49399870898049514 Jac= 0.4873953249684765 acc= 0.9920052422417535 Dice= 0.5853229153517175\n"
          ]
        }
      ]
    },
    {
      "cell_type": "code",
      "metadata": {
        "id": "3QV4rwyQawwY",
        "colab": {
          "base_uri": "https://localhost:8080/"
        },
        "outputId": "52e68873-ca85-47a7-a103-47081b2c1da3"
      },
      "source": [
        "evalResult('./test/GT/',results[3])"
      ],
      "execution_count": null,
      "outputs": [
        {
          "output_type": "stream",
          "name": "stdout",
          "text": [
            "Precision= 0.7628602806700596 Recall= 0.516903500335176 Jac= 0.5103313746668952 acc= 0.9925452338324653 Dice= 0.6053257698162589\n"
          ]
        }
      ]
    },
    {
      "cell_type": "code",
      "metadata": {
        "id": "uz4xlfW3axqT",
        "colab": {
          "base_uri": "https://localhost:8080/"
        },
        "outputId": "eab114fe-8904-4fa7-93bc-18fe8d8688db"
      },
      "source": [
        "evalResult('./test/GT/',results[0])"
      ],
      "execution_count": null,
      "outputs": [
        {
          "output_type": "stream",
          "name": "stdout",
          "text": [
            "Precision= 0.5757476852767267 Recall= 0.2992220493702278 Jac= 0.24164536404386489 acc= 0.9822658962673612 Dice= 0.3714190563605396\n"
          ]
        }
      ]
    },
    {
      "cell_type": "code",
      "metadata": {
        "id": "n47pdlbuU2W-",
        "colab": {
          "base_uri": "https://localhost:8080/",
          "height": 287
        },
        "outputId": "1be416fd-1fec-47c0-cab1-7022cec3c98b"
      },
      "source": [
        "#Lets visualize the STARE predictions\n",
        "plt.imshow(results[3][8][:,:,0])\n",
        "print(np.max(results[0]),np.min(results[0]))"
      ],
      "execution_count": null,
      "outputs": [
        {
          "output_type": "stream",
          "name": "stdout",
          "text": [
            "0.99999917 0.0\n"
          ]
        },
        {
          "output_type": "display_data",
          "data": {
            "image/png": "[encoded data removed]",
            "text/plain": [
              "<Figure size 432x288 with 1 Axes>"
            ]
          },
          "metadata": {
            "needs_background": "light"
          }
        }
      ]
    },
    {
      "cell_type": "code",
      "metadata": {
        "id": "BIx6YSoi4eB8"
      },
      "source": [
        "def return_Unet_result_layers(files,img_path, results,num):\n",
        "  I=io.imread(os.path.join(img_path,files[num]), as_gray=True)\n",
        "  I = trans.resize(I,img_size)\n",
        "  pred0=(results[0][num][:,:,0]>0.5).astype(int)\n",
        "  pred1=(results[1][num][:,:,0]>0.5).astype(int)\n",
        "  pred2=(results[2][num][:,:,0]>0.5).astype(int)\n",
        "  pred3=(results[3][num][:,:,0]>0.5).astype(int)\n",
        "  f, axarr = plt.subplots(2,2)\n",
        "  axarr[0,0].imshow(np.true_divide((I+pred0),2))\n",
        "  axarr[0,1].imshow(np.true_divide((I+pred1),2))\n",
        "  axarr[1,0].imshow(np.true_divide((I+pred2),2))\n",
        "  axarr[1,1].imshow(np.true_divide((I+pred3),2))\n",
        "  return pred2,pred3"
      ],
      "execution_count": null,
      "outputs": []
    },
    {
      "cell_type": "code",
      "metadata": {
        "colab": {
          "base_uri": "https://localhost:8080/",
          "height": 269
        },
        "id": "db1YCPu-4mHR",
        "outputId": "3b59d403-aefa-423e-9064-2d35e86e2674"
      },
      "source": [
        "pred2,pred3=return_Unet_result_layers(os.listdir('./test/Image/'),'./test/Image/',results,13)"
      ],
      "execution_count": null,
      "outputs": [
        {
          "output_type": "display_data",
          "data": {
            "image/png": "[encoded data removed]",
            "text/plain": [
              "<Figure size 432x288 with 4 Axes>"
            ]
          },
          "metadata": {
            "needs_background": "light"
          }
        }
      ]
    },
    {
      "cell_type": "code",
      "metadata": {
        "colab": {
          "base_uri": "https://localhost:8080/"
        },
        "id": "2v1iJwPO4o3u",
        "outputId": "73626a08-891f-44e6-c805-bc42318fb383"
      },
      "source": [
        "get_validation_metrics(pred3,pred2)"
      ],
      "execution_count": null,
      "outputs": [
        {
          "output_type": "stream",
          "name": "stderr",
          "text": [
            "/usr/local/lib/python3.7/dist-packages/ipykernel_launcher.py:20: RuntimeWarning: invalid value encountered in double_scalars\n",
            "/usr/local/lib/python3.7/dist-packages/ipykernel_launcher.py:21: RuntimeWarning: invalid value encountered in double_scalars\n",
            "/usr/local/lib/python3.7/dist-packages/ipykernel_launcher.py:22: RuntimeWarning: invalid value encountered in double_scalars\n",
            "/usr/local/lib/python3.7/dist-packages/ipykernel_launcher.py:31: RuntimeWarning: invalid value encountered in double_scalars\n"
          ]
        },
        {
          "output_type": "execute_result",
          "data": {
            "text/plain": [
              "(nan, nan, nan, 1.0, nan)"
            ]
          },
          "metadata": {},
          "execution_count": 57
        }
      ]
    },
    {
      "cell_type": "code",
      "metadata": {
        "id": "PM0hxjbt5VNO"
      },
      "source": [
        "def print_top2bottom(gth_path,img_path, npyfile,target_size=img_size,flag_multi_class = False,num_class = 2):\n",
        "    files=sorted(os.listdir(gth_path))\n",
        "    #print(files)\n",
        "    fin_image=np.zeros((256,256,3))\n",
        "    for i,item in enumerate(npyfile):\n",
        "        print(i)\n",
        "        img = item[:,:,0]\n",
        "        gth = io.imread(os.path.join(gth_path,files[i]))\n",
        "        gth = trans.resize(gth,target_size)\n",
        "        I=   io.imread(os.path.join(img_path,files[i]), as_gray=True)\n",
        "        I = trans.resize(I,img_size)\n",
        "        #print(np.shape(gth))\n",
        "        if(np.sum(img)>0):\n",
        "            img=np.array(((img - np.min(img))/np.ptp(img))>0.1).astype(float)\n",
        "        if(np.sum(gth)>0):\n",
        "            gth=np.array(((gth - np.min(gth))/np.ptp(gth))>0.1).astype(float)\n",
        "            gth=(gth>0.9).astype(int)\n",
        "        #print(np.shape(gth),np.shape(img))\n",
        "        p,r,j,a,f=get_validation_metrics(gth,img)\n",
        "        \n",
        "        if (j>0.1 and j<0.3):\n",
        "          print(p,r,j,a,f)\n",
        "          fin_image[:,:,1]=I\n",
        "          fin_image[:,:,0]=gth\n",
        "          fin_image[:,:,2]=img\n",
        "          plt.imshow(fin_image)\n",
        "          break\n"
      ],
      "execution_count": null,
      "outputs": []
    },
    {
      "cell_type": "code",
      "metadata": {
        "colab": {
          "base_uri": "https://localhost:8080/",
          "height": 305
        },
        "id": "RmfFPCFi6R54",
        "outputId": "e9700f7e-fc6d-40bc-9a23-786d0d7174fe"
      },
      "source": [
        "print_top2bottom('./test/GT/','./test/Image/', results[3])"
      ],
      "execution_count": null,
      "outputs": [
        {
          "output_type": "stream",
          "name": "stdout",
          "text": [
            "0\n",
            "0.9516129032258065 0.30412371134020616 0.29949238578680204 0.997894287109375 0.4609375\n"
          ]
        },
        {
          "output_type": "display_data",
          "data": {
            "image/png": "[encoded data removed]",
            "text/plain": [
              "<Figure size 432x288 with 1 Axes>"
            ]
          },
          "metadata": {
            "needs_background": "light"
          }
        }
      ]
    },
    {
      "cell_type": "code",
      "metadata": {
        "id": "9s8ooGDS6WZr"
      },
      "source": [
        ""
      ],
      "execution_count": null,
      "outputs": []
    }
  ]
}