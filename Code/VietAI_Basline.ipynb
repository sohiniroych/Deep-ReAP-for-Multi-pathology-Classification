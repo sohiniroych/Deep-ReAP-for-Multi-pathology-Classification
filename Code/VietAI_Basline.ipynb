{
  "nbformat": 4,
  "nbformat_minor": 0,
  "metadata": {
    "kernelspec": {
      "display_name": "Python 3",
      "language": "python",
      "name": "python3"
    },
    "language_info": {
      "codemirror_mode": {
        "name": "ipython",
        "version": 3
      },
      "file_extension": ".py",
      "mimetype": "text/x-python",
      "name": "python",
      "nbconvert_exporter": "python",
      "pygments_lexer": "ipython3",
      "version": "3.8.5"
    },
    "colab": {
      "name": "VietAI_Basline.ipynb",
      "provenance": []
    },
    "accelerator": "GPU"
  },
  "cells": [
    {
      "cell_type": "markdown",
      "metadata": {
        "id": "zo5pF8aYhbe2"
      },
      "source": [
        "# This code is replication of basline for VietAI data set, multilabel pathology classification\n",
        "https://www.kaggle.com/hmchuong/keras-baseline-model"
      ]
    },
    {
      "cell_type": "code",
      "metadata": {
        "colab": {
          "base_uri": "https://localhost:8080/"
        },
        "id": "aMqMH_70hbfR",
        "outputId": "192ae2ca-2479-4148-b1ff-5dbd9d391879"
      },
      "source": [
        "import numpy as np # linear algebra\n",
        "import pandas as pd # data processing, CSV file I/O (e.g. pd.read_csv)\n",
        "\n",
        "# Input data files are available in the \"../input/\" directory.\n",
        "# For example, running this (by clicking run or pressing Shift+Enter) will list the files in the input directory\n",
        "\n",
        "import os\n",
        "print(os.listdir(\".\"))\n",
        "\n",
        "# Any results you write to the current directory are saved as output.\n"
      ],
      "execution_count": 1,
      "outputs": [
        {
          "output_type": "stream",
          "text": [
            "['.config', 'sample_data']\n"
          ],
          "name": "stdout"
        }
      ]
    },
    {
      "cell_type": "code",
      "metadata": {
        "colab": {
          "base_uri": "https://localhost:8080/"
        },
        "id": "nO4PGfXbhbff",
        "outputId": "f84e58e4-960b-4c3a-c721-43b99e7efd24"
      },
      "source": [
        "import sys\n",
        "\n",
        "from sklearn.model_selection import train_test_split\n",
        "from sklearn.metrics import f1_score\n",
        "\n",
        "import tensorflow as tf\n",
        "import tensorflow.keras as keras\n",
        "\n",
        "\n",
        "from PIL import Image\n",
        "\n",
        "# Check Eager Execution\n",
        "tf.executing_eagerly() "
      ],
      "execution_count": 2,
      "outputs": [
        {
          "output_type": "execute_result",
          "data": {
            "text/plain": [
              "True"
            ]
          },
          "metadata": {
            "tags": []
          },
          "execution_count": 2
        }
      ]
    },
    {
      "cell_type": "code",
      "metadata": {
        "colab": {
          "base_uri": "https://localhost:8080/"
        },
        "id": "XKvvTmW7iNHZ",
        "outputId": "df53e677-f997-4c07-f052-424ca18cbd7d"
      },
      "source": [
        "from google.colab import drive\n",
        "drive.mount('/content/drive')"
      ],
      "execution_count": 3,
      "outputs": [
        {
          "output_type": "stream",
          "text": [
            "Mounted at /content/drive\n"
          ],
          "name": "stdout"
        }
      ]
    },
    {
      "cell_type": "code",
      "metadata": {
        "colab": {
          "base_uri": "https://localhost:8080/"
        },
        "id": "j731tRYjiWS0",
        "outputId": "2d7b35c7-cfeb-46e0-ca10-5e4d76a909ca"
      },
      "source": [
        "import os\n",
        "os.chdir('/content/drive/MyDrive/Viet_AI/Data')\n",
        "print(os.listdir(\".\"))"
      ],
      "execution_count": 4,
      "outputs": [
        {
          "output_type": "stream",
          "text": [
            "['train.csv', 'MLE_at_Epic_Software-SOLUTIONS.ipynb', 'U-net_TF2_retinal_image_segmentation_STARE.ipynb', 'U-net_binary_DB1.ipynb', 'resnet50.h5', 'my_model.h5', 'VietAI.hdf5', 'test', '.ipynb_checkpoints', 'train', 'logs', 'VietAI_multi-label.ipynb', 'mclass_data.npz', 'CNN_multi.h5', 'data.npz', 'VietAI_Tansfer_learning (1).ipynb', 'TF_30.h5', 'TF_conv_30.h5', 'VietAI_Tansfer_learning-conv.ipynb', 'LP_TF.npz', 'LP_TF_test.npz', 'TF.h5', 'VietAI_Tansfer_learning.ipynb', 'VietAI-visualize.ipynb', 'VietAI_multi_label-multi_class.ipynb', 'Viet_AI_LP_TF_noFalse_all_data.ipynb', 'TF_half_30.h5', 'LP_TF_half.npz', 'LP_TF_half_test.npz', 'VietAI-Label_propagate_TF_data_create.ipynb', 'new_train_data.npz', 'TF_1580_20.h5', 'VietAI-visualize-TF.ipynb', 'output', 'TF_all_20.h5', 'ipykernel_launcher.py_plot.png', 'Viet_AI_Results.gsheet', 'VietAI_Basline.ipynb']\n"
          ],
          "name": "stdout"
        }
      ]
    },
    {
      "cell_type": "code",
      "metadata": {
        "colab": {
          "base_uri": "https://localhost:8080/",
          "height": 204
        },
        "id": "ZpbnkNHnhbfh",
        "outputId": "fcbf7c20-7586-4685-9f4d-f15c6f768252"
      },
      "source": [
        "data = pd.read_csv(\"train.csv\")\n",
        "data.head()"
      ],
      "execution_count": 5,
      "outputs": [
        {
          "output_type": "execute_result",
          "data": {
            "text/html": [
              "<div>\n",
              "<style scoped>\n",
              "    .dataframe tbody tr th:only-of-type {\n",
              "        vertical-align: middle;\n",
              "    }\n",
              "\n",
              "    .dataframe tbody tr th {\n",
              "        vertical-align: top;\n",
              "    }\n",
              "\n",
              "    .dataframe thead th {\n",
              "        text-align: right;\n",
              "    }\n",
              "</style>\n",
              "<table border=\"1\" class=\"dataframe\">\n",
              "  <thead>\n",
              "    <tr style=\"text-align: right;\">\n",
              "      <th></th>\n",
              "      <th>filename</th>\n",
              "      <th>opacity</th>\n",
              "      <th>diabetic retinopathy</th>\n",
              "      <th>glaucoma</th>\n",
              "      <th>macular edema</th>\n",
              "      <th>macular degeneration</th>\n",
              "      <th>retinal vascular occlusion</th>\n",
              "      <th>normal</th>\n",
              "    </tr>\n",
              "  </thead>\n",
              "  <tbody>\n",
              "    <tr>\n",
              "      <th>0</th>\n",
              "      <td>c24a1b14d253.jpg</td>\n",
              "      <td>0</td>\n",
              "      <td>0</td>\n",
              "      <td>0</td>\n",
              "      <td>0</td>\n",
              "      <td>0</td>\n",
              "      <td>1</td>\n",
              "      <td>0</td>\n",
              "    </tr>\n",
              "    <tr>\n",
              "      <th>1</th>\n",
              "      <td>9ee905a41651.jpg</td>\n",
              "      <td>0</td>\n",
              "      <td>0</td>\n",
              "      <td>0</td>\n",
              "      <td>0</td>\n",
              "      <td>0</td>\n",
              "      <td>1</td>\n",
              "      <td>0</td>\n",
              "    </tr>\n",
              "    <tr>\n",
              "      <th>2</th>\n",
              "      <td>3f58d128caf6.jpg</td>\n",
              "      <td>0</td>\n",
              "      <td>0</td>\n",
              "      <td>1</td>\n",
              "      <td>0</td>\n",
              "      <td>0</td>\n",
              "      <td>0</td>\n",
              "      <td>0</td>\n",
              "    </tr>\n",
              "    <tr>\n",
              "      <th>3</th>\n",
              "      <td>4ce6599e7b20.jpg</td>\n",
              "      <td>1</td>\n",
              "      <td>0</td>\n",
              "      <td>0</td>\n",
              "      <td>0</td>\n",
              "      <td>1</td>\n",
              "      <td>0</td>\n",
              "      <td>0</td>\n",
              "    </tr>\n",
              "    <tr>\n",
              "      <th>4</th>\n",
              "      <td>0def470360e4.jpg</td>\n",
              "      <td>1</td>\n",
              "      <td>0</td>\n",
              "      <td>0</td>\n",
              "      <td>0</td>\n",
              "      <td>1</td>\n",
              "      <td>0</td>\n",
              "      <td>0</td>\n",
              "    </tr>\n",
              "  </tbody>\n",
              "</table>\n",
              "</div>"
            ],
            "text/plain": [
              "           filename  opacity  ...  retinal vascular occlusion  normal\n",
              "0  c24a1b14d253.jpg        0  ...                           1       0\n",
              "1  9ee905a41651.jpg        0  ...                           1       0\n",
              "2  3f58d128caf6.jpg        0  ...                           0       0\n",
              "3  4ce6599e7b20.jpg        1  ...                           0       0\n",
              "4  0def470360e4.jpg        1  ...                           0       0\n",
              "\n",
              "[5 rows x 8 columns]"
            ]
          },
          "metadata": {
            "tags": []
          },
          "execution_count": 5
        }
      ]
    },
    {
      "cell_type": "code",
      "metadata": {
        "id": "938w7KsAiihP"
      },
      "source": [
        "import skimage.io as io"
      ],
      "execution_count": 6,
      "outputs": []
    },
    {
      "cell_type": "code",
      "metadata": {
        "colab": {
          "base_uri": "https://localhost:8080/"
        },
        "id": "XeKfUhHMinTT",
        "outputId": "bea31471-9005-4b41-823c-67be2c22927a"
      },
      "source": [
        "img=io.imread('./train/train/f6228611d767.jpg')\n",
        "np.shape(img)"
      ],
      "execution_count": 7,
      "outputs": [
        {
          "output_type": "execute_result",
          "data": {
            "text/plain": [
              "(512, 512, 3)"
            ]
          },
          "metadata": {
            "tags": []
          },
          "execution_count": 7
        }
      ]
    },
    {
      "cell_type": "code",
      "metadata": {
        "colab": {
          "base_uri": "https://localhost:8080/"
        },
        "id": "Y3Lvn6L3hbfj",
        "outputId": "f8c51946-a41a-488e-e9aa-3f721bab6e21"
      },
      "source": [
        "print(data.shape)"
      ],
      "execution_count": 8,
      "outputs": [
        {
          "output_type": "stream",
          "text": [
            "(3435, 8)\n"
          ],
          "name": "stdout"
        }
      ]
    },
    {
      "cell_type": "code",
      "metadata": {
        "colab": {
          "base_uri": "https://localhost:8080/"
        },
        "id": "LcdcEsZHrA9G",
        "outputId": "3444fe1d-475c-43e2-a3f0-05398c017219"
      },
      "source": [
        "Y=data.iloc[:,1:8].values\n",
        "print(np.shape(Y))"
      ],
      "execution_count": 9,
      "outputs": [
        {
          "output_type": "stream",
          "text": [
            "(3435, 7)\n"
          ],
          "name": "stdout"
        }
      ]
    },
    {
      "cell_type": "code",
      "metadata": {
        "id": "5_7AYRdQryWW"
      },
      "source": [
        "def binary_converter(arr):\n",
        "    total = 0\n",
        "    for index, val in enumerate(reversed(arr)):\n",
        "        total += (val * 2**index)\n",
        "    return total"
      ],
      "execution_count": 10,
      "outputs": []
    },
    {
      "cell_type": "code",
      "metadata": {
        "id": "_KTjyqp2rzcj"
      },
      "source": [
        "Y1=list()\n",
        "\n",
        "for i in range(np.shape(Y)[0]):\n",
        "    #print(i)\n",
        "    label=binary_converter(Y[i])\n",
        "    Y1.append(label)"
      ],
      "execution_count": 11,
      "outputs": []
    },
    {
      "cell_type": "code",
      "metadata": {
        "colab": {
          "base_uri": "https://localhost:8080/"
        },
        "id": "NrdRETX-sCcG",
        "outputId": "a85c530b-3f02-455c-cadf-6bb25fbc8236"
      },
      "source": [
        "vals=np.unique(Y1)\n",
        "np.shape(vals)"
      ],
      "execution_count": 12,
      "outputs": [
        {
          "output_type": "execute_result",
          "data": {
            "text/plain": [
              "(36,)"
            ]
          },
          "metadata": {
            "tags": []
          },
          "execution_count": 12
        }
      ]
    },
    {
      "cell_type": "markdown",
      "metadata": {
        "id": "CIrbHtqlhbfm"
      },
      "source": [
        "# Data Analysis"
      ]
    },
    {
      "cell_type": "code",
      "metadata": {
        "colab": {
          "base_uri": "https://localhost:8080/"
        },
        "id": "7-6qZAC7hbhO",
        "outputId": "b393d2c9-abfa-4539-f58c-e6201db2222c"
      },
      "source": [
        "for label in data.columns[1:]:\n",
        "    print(\"Distribution of\", label)\n",
        "    print(data[label].value_counts())"
      ],
      "execution_count": 13,
      "outputs": [
        {
          "output_type": "stream",
          "text": [
            "Distribution of opacity\n",
            "0    1902\n",
            "1    1533\n",
            "Name: opacity, dtype: int64\n",
            "Distribution of diabetic retinopathy\n",
            "0    2680\n",
            "1     755\n",
            "Name: diabetic retinopathy, dtype: int64\n",
            "Distribution of glaucoma\n",
            "0    2838\n",
            "1     597\n",
            "Name: glaucoma, dtype: int64\n",
            "Distribution of macular edema\n",
            "0    2919\n",
            "1     516\n",
            "Name: macular edema, dtype: int64\n",
            "Distribution of macular degeneration\n",
            "0    2861\n",
            "1     574\n",
            "Name: macular degeneration, dtype: int64\n",
            "Distribution of retinal vascular occlusion\n",
            "0    2995\n",
            "1     440\n",
            "Name: retinal vascular occlusion, dtype: int64\n",
            "Distribution of normal\n",
            "0    2910\n",
            "1     525\n",
            "Name: normal, dtype: int64\n"
          ],
          "name": "stdout"
        }
      ]
    },
    {
      "cell_type": "markdown",
      "metadata": {
        "id": "mO9w65MshbhR"
      },
      "source": [
        "# Apart from opacity, all other labels have 4:1, 5:1 ratio for labels 0:1\n",
        "\n",
        "# Next analyze combination of data"
      ]
    },
    {
      "cell_type": "code",
      "metadata": {
        "colab": {
          "base_uri": "https://localhost:8080/"
        },
        "id": "7mwZp0eshbhS",
        "outputId": "828560eb-ce19-4406-8da6-63d437bec4c3"
      },
      "source": [
        "LABELS = data.columns[1:]\n",
        "def build_label(row):\n",
        "    return \",\".join([LABELS[idx] for idx, val in enumerate(row[1:]) if val == 1])\n",
        "        \n",
        "data.apply(lambda x: build_label(x), axis=1).value_counts()"
      ],
      "execution_count": 14,
      "outputs": [
        {
          "output_type": "execute_result",
          "data": {
            "text/plain": [
              "opacity                                                                  671\n",
              "normal                                                                   525\n",
              "glaucoma                                                                 327\n",
              "macular degeneration                                                     299\n",
              "opacity,macular degeneration                                             212\n",
              "diabetic retinopathy                                                     212\n",
              "opacity,diabetic retinopathy                                             186\n",
              "retinal vascular occlusion                                               170\n",
              "diabetic retinopathy,macular edema                                       162\n",
              "opacity,diabetic retinopathy,macular edema                               154\n",
              "opacity,glaucoma                                                         140\n",
              "macular edema,retinal vascular occlusion                                  74\n",
              "opacity,macular edema,retinal vascular occlusion                          62\n",
              "opacity,retinal vascular occlusion                                        55\n",
              "glaucoma,macular degeneration                                             31\n",
              "glaucoma,retinal vascular occlusion                                       27\n",
              "macular edema                                                             27\n",
              "opacity,glaucoma,macular degeneration                                     16\n",
              "diabetic retinopathy,glaucoma                                             15\n",
              "glaucoma,macular edema,retinal vascular occlusion                         14\n",
              "opacity,glaucoma,retinal vascular occlusion                               10\n",
              "opacity,glaucoma,macular edema,retinal vascular occlusion                  8\n",
              "opacity,diabetic retinopathy,macular degeneration                          5\n",
              "diabetic retinopathy,retinal vascular occlusion                            5\n",
              "opacity,diabetic retinopathy,retinal vascular occlusion                    4\n",
              "opacity,macular degeneration,retinal vascular occlusion                    3\n",
              "diabetic retinopathy,glaucoma,macular edema                                3\n",
              "glaucoma,macular edema                                                     3\n",
              "glaucoma,macular degeneration,retinal vascular occlusion                   2\n",
              "opacity,macular edema                                                      2\n",
              "opacity,diabetic retinopathy,macular edema,macular degeneration            2\n",
              "opacity,diabetic retinopathy,macular edema,retinal vascular occlusion      2\n",
              "diabetic retinopathy,macular edema,retinal vascular occlusion              2\n",
              "macular degeneration,retinal vascular occlusion                            2\n",
              "diabetic retinopathy,macular degeneration                                  2\n",
              "opacity,diabetic retinopathy,glaucoma,macular edema                        1\n",
              "dtype: int64"
            ]
          },
          "metadata": {
            "tags": []
          },
          "execution_count": 14
        }
      ]
    },
    {
      "cell_type": "code",
      "metadata": {
        "colab": {
          "base_uri": "https://localhost:8080/"
        },
        "id": "_-USSaeihbhU",
        "outputId": "af779498-94e9-4824-c589-4eacd7828549"
      },
      "source": [
        "LABELS"
      ],
      "execution_count": 15,
      "outputs": [
        {
          "output_type": "execute_result",
          "data": {
            "text/plain": [
              "Index(['opacity', 'diabetic retinopathy', 'glaucoma', 'macular edema',\n",
              "       'macular degeneration', 'retinal vascular occlusion', 'normal'],\n",
              "      dtype='object')"
            ]
          },
          "metadata": {
            "tags": []
          },
          "execution_count": 15
        }
      ]
    },
    {
      "cell_type": "markdown",
      "metadata": {
        "id": "pv8wzeEzhbhb"
      },
      "source": [
        "# Next begin training"
      ]
    },
    {
      "cell_type": "code",
      "metadata": {
        "id": "1OwFnY5Shbhc"
      },
      "source": [
        "train_data, val_data = train_test_split(data, test_size=0.2, random_state=42)"
      ],
      "execution_count": 16,
      "outputs": []
    },
    {
      "cell_type": "code",
      "metadata": {
        "id": "J8SdeRwjhbhd"
      },
      "source": [
        "IMAGE_SIZE = 224                              # Image size (224x224)\n",
        "IMAGENET_MEAN = [0.485, 0.456, 0.406]         # Mean of ImageNet dataset (used for normalization)\n",
        "IMAGENET_STD = [0.229, 0.224, 0.225]          # Std of ImageNet dataset (used for normalization)\n",
        "BATCH_SIZE = 32                             \n",
        "LEARNING_RATE = 0.001\n",
        "LEARNING_RATE_SCHEDULE_FACTOR = 0.1           # Parameter used for reducing learning rate\n",
        "LEARNING_RATE_SCHEDULE_PATIENCE = 5           # Parameter used for reducing learning rate\n",
        "MAX_EPOCHS = 20         "
      ],
      "execution_count": 17,
      "outputs": []
    },
    {
      "cell_type": "code",
      "metadata": {
        "id": "RFRG0SNChbhe"
      },
      "source": [
        "def preprocessing_image(image):\n",
        "    \"\"\"\n",
        "    Preprocess image after resize and augment data with ImageDataGenerator\n",
        "    \n",
        "    Parameters\n",
        "    ----------\n",
        "    image: numpy tensor with rank 3\n",
        "        image to preprocessing\n",
        "    \n",
        "    Returns\n",
        "    -------\n",
        "    numpy tensor with rank 3\n",
        "    \"\"\"\n",
        "    rotation_range=10.,\n",
        "    width_shift_range=0.2,\n",
        "    height_shift_range=0.2,\n",
        "    horizontal_flip=True,\n",
        "    vertical_flip=True,\n",
        "    fill_mode='constant',\n",
        "    data_format=\"channels_last\",\n",
        "    #preprocessing_function=contrast_only,\n",
        "    \n",
        "    \n",
        "    \n",
        "    return image"
      ],
      "execution_count": 18,
      "outputs": []
    },
    {
      "cell_type": "code",
      "metadata": {
        "id": "dXJI3D7chbhh"
      },
      "source": [
        "train_datagen = keras.preprocessing.image.ImageDataGenerator(rescale=1./255,\n",
        "                                                             featurewise_center=True,\n",
        "                                                             featurewise_std_normalization=True,\n",
        "                                                             preprocessing_function=preprocessing_image)"
      ],
      "execution_count": 19,
      "outputs": []
    },
    {
      "cell_type": "code",
      "metadata": {
        "id": "TY7RowfShbhi"
      },
      "source": [
        "test_datagen= keras.preprocessing.image.ImageDataGenerator(rescale=1./255,\n",
        "                                                             featurewise_center=True,\n",
        "                                                             featurewise_std_normalization=True)"
      ],
      "execution_count": 20,
      "outputs": []
    },
    {
      "cell_type": "code",
      "metadata": {
        "colab": {
          "base_uri": "https://localhost:8080/"
        },
        "id": "dg2rqCRWhbhm",
        "outputId": "f1ad348b-134a-4d60-bfc1-0a04de0efc1a"
      },
      "source": [
        "def build_label_list(row):\n",
        "    return [LABELS[idx] for idx, val in enumerate(row[1:]) if val == 1]\n",
        "        \n",
        "train_data[\"label\"] = train_data.apply(lambda x: build_label_list(x), axis=1)\n",
        "val_data[\"label\"] = val_data.apply(lambda x: build_label_list(x), axis=1)"
      ],
      "execution_count": 21,
      "outputs": [
        {
          "output_type": "stream",
          "text": [
            "/usr/local/lib/python3.7/dist-packages/ipykernel_launcher.py:4: SettingWithCopyWarning: \n",
            "A value is trying to be set on a copy of a slice from a DataFrame.\n",
            "Try using .loc[row_indexer,col_indexer] = value instead\n",
            "\n",
            "See the caveats in the documentation: https://pandas.pydata.org/pandas-docs/stable/user_guide/indexing.html#returning-a-view-versus-a-copy\n",
            "  after removing the cwd from sys.path.\n",
            "/usr/local/lib/python3.7/dist-packages/ipykernel_launcher.py:5: SettingWithCopyWarning: \n",
            "A value is trying to be set on a copy of a slice from a DataFrame.\n",
            "Try using .loc[row_indexer,col_indexer] = value instead\n",
            "\n",
            "See the caveats in the documentation: https://pandas.pydata.org/pandas-docs/stable/user_guide/indexing.html#returning-a-view-versus-a-copy\n",
            "  \"\"\"\n"
          ],
          "name": "stderr"
        }
      ]
    },
    {
      "cell_type": "code",
      "metadata": {
        "colab": {
          "base_uri": "https://localhost:8080/"
        },
        "id": "VOHEqkk-hbiA",
        "outputId": "43235794-da97-4715-d0cd-d99a57f5d0bb"
      },
      "source": [
        "print(train_data)"
      ],
      "execution_count": 22,
      "outputs": [
        {
          "output_type": "stream",
          "text": [
            "              filename  ...                                              label\n",
            "2622  93fdb9253059.jpg  ...                             [diabetic retinopathy]\n",
            "1263  7bfe29171658.jpg  ...  [opacity, macular edema, retinal vascular occl...\n",
            "1659  308ba6309b27.jpg  ...                             [macular degeneration]\n",
            "572   7148a621c41c.jpg  ...                    [opacity, macular degeneration]\n",
            "2522  933b55337d90.jpg  ...                    [opacity, macular degeneration]\n",
            "...                ...  ...                                                ...\n",
            "1095  a6ab3b092111.jpg  ...     [opacity, diabetic retinopathy, macular edema]\n",
            "1130  3b8080fb2d34.jpg  ...                                          [opacity]\n",
            "1294  bfc041c9f3b4.jpg  ...                             [macular degeneration]\n",
            "860   2d8f4e99fff0.jpg  ...                    [opacity, diabetic retinopathy]\n",
            "3174  bd8fd3ece129.jpg  ...                                           [normal]\n",
            "\n",
            "[2748 rows x 9 columns]\n"
          ],
          "name": "stdout"
        }
      ]
    },
    {
      "cell_type": "code",
      "metadata": {
        "colab": {
          "base_uri": "https://localhost:8080/"
        },
        "id": "-Fzr9nNjhbiB",
        "outputId": "7a4ce6b1-f65d-43dc-daf2-a9088a336d3a"
      },
      "source": [
        "train_gen = train_datagen.flow_from_dataframe(dataframe=train_data, \n",
        "                                        directory=\"./train/train\", \n",
        "                                        x_col=\"filename\", \n",
        "                                        y_col=\"label\",\n",
        "                                        class_mode=\"categorical\",\n",
        "                                        target_size=(IMAGE_SIZE,IMAGE_SIZE), \n",
        "                                        batch_size=BATCH_SIZE)"
      ],
      "execution_count": 23,
      "outputs": [
        {
          "output_type": "stream",
          "text": [
            "Found 2748 validated image filenames belonging to 7 classes.\n"
          ],
          "name": "stdout"
        }
      ]
    },
    {
      "cell_type": "code",
      "metadata": {
        "colab": {
          "base_uri": "https://localhost:8080/"
        },
        "id": "hj3VK5bdhbi1",
        "outputId": "a1b3d722-ab06-4e8f-c10b-9bf7c58eb4e3"
      },
      "source": [
        "val_gen = test_datagen.flow_from_dataframe(dataframe=val_data, \n",
        "                                        directory=\"./train/train\", \n",
        "                                        x_col=\"filename\", \n",
        "                                        y_col=\"label\",\n",
        "                                        class_mode=\"categorical\",\n",
        "                                        shuffle=False,\n",
        "                                        target_size=(IMAGE_SIZE,IMAGE_SIZE), \n",
        "                                        batch_size=1)"
      ],
      "execution_count": 24,
      "outputs": [
        {
          "output_type": "stream",
          "text": [
            "Found 687 validated image filenames belonging to 7 classes.\n"
          ],
          "name": "stdout"
        }
      ]
    },
    {
      "cell_type": "markdown",
      "metadata": {
        "id": "r9GWVMwAhbi6"
      },
      "source": [
        "# Define the model"
      ]
    },
    {
      "cell_type": "code",
      "metadata": {
        "colab": {
          "base_uri": "https://localhost:8080/"
        },
        "id": "ctrXhDsshbi6",
        "outputId": "e83481e5-5e67-4c45-bccb-691358a00248"
      },
      "source": [
        "base_model = keras.applications.InceptionV3(input_shape=(IMAGE_SIZE,IMAGE_SIZE,3),\n",
        "                                    include_top=False,\n",
        "                                    weights='imagenet')\n",
        "base_model.trainable = True\n",
        "\n",
        "model = keras.Sequential([\n",
        "  base_model,\n",
        "  keras.layers.GlobalAveragePooling2D(),\n",
        "  keras.layers.Dense(512, activation='relu'), #add another layer for visualization\n",
        "  keras.layers.Dense(len(LABELS), activation='sigmoid')\n",
        "])\n",
        "\n",
        "# Print out model summary\n",
        "model.summary()"
      ],
      "execution_count": 25,
      "outputs": [
        {
          "output_type": "stream",
          "text": [
            "Downloading data from https://storage.googleapis.com/tensorflow/keras-applications/inception_v3/inception_v3_weights_tf_dim_ordering_tf_kernels_notop.h5\n",
            "87916544/87910968 [==============================] - 1s 0us/step\n",
            "Model: \"sequential\"\n",
            "_________________________________________________________________\n",
            "Layer (type)                 Output Shape              Param #   \n",
            "=================================================================\n",
            "inception_v3 (Functional)    (None, 5, 5, 2048)        21802784  \n",
            "_________________________________________________________________\n",
            "global_average_pooling2d (Gl (None, 2048)              0         \n",
            "_________________________________________________________________\n",
            "dense (Dense)                (None, 512)               1049088   \n",
            "_________________________________________________________________\n",
            "dense_1 (Dense)              (None, 7)                 3591      \n",
            "=================================================================\n",
            "Total params: 22,855,463\n",
            "Trainable params: 22,821,031\n",
            "Non-trainable params: 34,432\n",
            "_________________________________________________________________\n"
          ],
          "name": "stdout"
        }
      ]
    },
    {
      "cell_type": "code",
      "metadata": {
        "id": "YtZox7HOhbjA"
      },
      "source": [
        "import tensorflow.keras.backend as K\n",
        "\n",
        "def f1(y_true, y_pred):\n",
        "    def recall(y_true, y_pred):\n",
        "        \"\"\"Recall metric.\n",
        "\n",
        "        Only computes a batch-wise average of recall.\n",
        "\n",
        "        Computes the recall, a metric for multi-label classification of\n",
        "        how many relevant items are selected.\n",
        "        \"\"\"\n",
        "        true_positives = K.sum(K.round(K.clip(y_true * y_pred, 0, 1)))\n",
        "        possible_positives = K.sum(K.round(K.clip(y_true, 0, 1)))\n",
        "        recall = true_positives / (possible_positives + K.epsilon())\n",
        "        return recall\n",
        "\n",
        "    def precision(y_true, y_pred):\n",
        "        \"\"\"Precision metric.\n",
        "\n",
        "        Only computes a batch-wise average of precision.\n",
        "\n",
        "        Computes the precision, a metric for multi-label classification of\n",
        "        how many selected items are relevant.\n",
        "        \"\"\"\n",
        "        true_positives = K.sum(K.round(K.clip(y_true * y_pred, 0, 1)))\n",
        "        predicted_positives = K.sum(K.round(K.clip(y_pred, 0, 1)))\n",
        "        precision = true_positives / (predicted_positives + K.epsilon())\n",
        "        return precision\n",
        "    precision = precision(y_true, y_pred)\n",
        "    recall = recall(y_true, y_pred)\n",
        "    return 2*((precision*recall)/(precision+recall+K.epsilon()))"
      ],
      "execution_count": 26,
      "outputs": []
    },
    {
      "cell_type": "code",
      "metadata": {
        "id": "E7Bt3hMRhbjB"
      },
      "source": [
        "#Step 3: Initialize Tensorboard to monitor changes in Model Loss \n",
        "import datetime\n",
        "%load_ext tensorboard\n",
        "log_dir = \"logs/fit/\" + datetime.datetime.now().strftime(\"%Y%m%d-%H%M%S\")\n",
        "tensorboard_callback = tf.keras.callbacks.TensorBoard(log_dir=log_dir, histogram_freq=1)"
      ],
      "execution_count": 27,
      "outputs": []
    },
    {
      "cell_type": "code",
      "metadata": {
        "id": "8J72WyUohbjD"
      },
      "source": [
        "#This code snippet helps if your computer has RTX 2070 GPU. If not then comment this cell.\n",
        "from tensorflow.compat.v1 import ConfigProto\n",
        "from tensorflow.compat.v1 import InteractiveSession\n",
        "\n",
        "config = ConfigProto()\n",
        "config.gpu_options.allow_growth = True\n",
        "session = InteractiveSession(config=config)"
      ],
      "execution_count": 28,
      "outputs": []
    },
    {
      "cell_type": "code",
      "metadata": {
        "colab": {
          "base_uri": "https://localhost:8080/"
        },
        "id": "adfyetYEhbjE",
        "outputId": "945e92e1-4175-4bd8-fd9c-d1302261a62b"
      },
      "source": [
        "steps_per_epoch = 10 #train_gen.n // BATCH_SIZE\n",
        "validation_steps = 10 #val_gen.n // BATCH_SIZE\n",
        "model_checkpoint = tf.keras.callbacks.ModelCheckpoint('VietAI.hdf5', monitor='loss',verbose=1, save_best_only=True)\n",
        "    \n",
        "model.compile(optimizer=keras.optimizers.Adam(lr=LEARNING_RATE), loss='binary_crossentropy', metrics='accuracy')\n",
        "\n",
        "history = model.fit(train_gen,steps_per_epoch=steps_per_epoch,epochs= MAX_EPOCHS,verbose=1,callbacks=[model_checkpoint,tensorboard_callback])"
      ],
      "execution_count": 29,
      "outputs": [
        {
          "output_type": "stream",
          "text": [
            "/usr/local/lib/python3.7/dist-packages/keras_preprocessing/image/image_data_generator.py:720: UserWarning: This ImageDataGenerator specifies `featurewise_center`, but it hasn't been fit on any training data. Fit it first by calling `.fit(numpy_data)`.\n",
            "  warnings.warn('This ImageDataGenerator specifies '\n",
            "/usr/local/lib/python3.7/dist-packages/keras_preprocessing/image/image_data_generator.py:728: UserWarning: This ImageDataGenerator specifies `featurewise_std_normalization`, but it hasn't been fit on any training data. Fit it first by calling `.fit(numpy_data)`.\n",
            "  warnings.warn('This ImageDataGenerator specifies '\n"
          ],
          "name": "stderr"
        },
        {
          "output_type": "stream",
          "text": [
            "Epoch 1/20\n",
            "10/10 [==============================] - 110s 9s/step - loss: 0.5533 - accuracy: 0.2872\n",
            "\n",
            "Epoch 00001: loss improved from inf to 0.48908, saving model to VietAI.hdf5\n",
            "Epoch 2/20\n",
            "10/10 [==============================] - 83s 8s/step - loss: 0.4430 - accuracy: 0.3866\n",
            "\n",
            "Epoch 00002: loss improved from 0.48908 to 0.44129, saving model to VietAI.hdf5\n",
            "Epoch 3/20\n",
            "10/10 [==============================] - 69s 7s/step - loss: 0.4400 - accuracy: 0.3347\n",
            "\n",
            "Epoch 00003: loss did not improve from 0.44129\n",
            "Epoch 4/20\n",
            "10/10 [==============================] - 61s 6s/step - loss: 0.4189 - accuracy: 0.3251\n",
            "\n",
            "Epoch 00004: loss improved from 0.44129 to 0.41364, saving model to VietAI.hdf5\n",
            "Epoch 5/20\n",
            "10/10 [==============================] - 58s 6s/step - loss: 0.4101 - accuracy: 0.3385\n",
            "\n",
            "Epoch 00005: loss improved from 0.41364 to 0.40923, saving model to VietAI.hdf5\n",
            "Epoch 6/20\n",
            "10/10 [==============================] - 50s 5s/step - loss: 0.4172 - accuracy: 0.3178\n",
            "\n",
            "Epoch 00006: loss improved from 0.40923 to 0.39248, saving model to VietAI.hdf5\n",
            "Epoch 7/20\n",
            "10/10 [==============================] - 50s 5s/step - loss: 0.3594 - accuracy: 0.4413\n",
            "\n",
            "Epoch 00007: loss improved from 0.39248 to 0.36222, saving model to VietAI.hdf5\n",
            "Epoch 8/20\n",
            "10/10 [==============================] - 36s 4s/step - loss: 0.3752 - accuracy: 0.4325\n",
            "\n",
            "Epoch 00008: loss did not improve from 0.36222\n",
            "Epoch 9/20\n",
            "10/10 [==============================] - 31s 3s/step - loss: 0.3473 - accuracy: 0.4766\n",
            "\n",
            "Epoch 00009: loss improved from 0.36222 to 0.33762, saving model to VietAI.hdf5\n",
            "Epoch 10/20\n",
            "10/10 [==============================] - 29s 3s/step - loss: 0.3103 - accuracy: 0.5342\n",
            "\n",
            "Epoch 00010: loss improved from 0.33762 to 0.33431, saving model to VietAI.hdf5\n",
            "Epoch 11/20\n",
            "10/10 [==============================] - 26s 3s/step - loss: 0.3526 - accuracy: 0.4621\n",
            "\n",
            "Epoch 00011: loss improved from 0.33431 to 0.33101, saving model to VietAI.hdf5\n",
            "Epoch 12/20\n",
            "10/10 [==============================] - 21s 2s/step - loss: 0.3387 - accuracy: 0.5739\n",
            "\n",
            "Epoch 00012: loss did not improve from 0.33101\n",
            "Epoch 13/20\n",
            "10/10 [==============================] - 18s 2s/step - loss: 0.3562 - accuracy: 0.4513\n",
            "\n",
            "Epoch 00013: loss did not improve from 0.33101\n",
            "Epoch 14/20\n",
            "10/10 [==============================] - 16s 2s/step - loss: 0.3199 - accuracy: 0.5439\n",
            "\n",
            "Epoch 00014: loss improved from 0.33101 to 0.30967, saving model to VietAI.hdf5\n",
            "Epoch 15/20\n",
            "10/10 [==============================] - 15s 2s/step - loss: 0.2816 - accuracy: 0.6023\n",
            "\n",
            "Epoch 00015: loss improved from 0.30967 to 0.29929, saving model to VietAI.hdf5\n",
            "Epoch 16/20\n",
            "10/10 [==============================] - 12s 1s/step - loss: 0.3215 - accuracy: 0.5146\n",
            "\n",
            "Epoch 00016: loss did not improve from 0.29929\n",
            "Epoch 17/20\n",
            "10/10 [==============================] - 13s 1s/step - loss: 0.3130 - accuracy: 0.5229\n",
            "\n",
            "Epoch 00017: loss did not improve from 0.29929\n",
            "Epoch 18/20\n",
            "10/10 [==============================] - 14s 1s/step - loss: 0.2992 - accuracy: 0.5395\n",
            "\n",
            "Epoch 00018: loss improved from 0.29929 to 0.28561, saving model to VietAI.hdf5\n",
            "Epoch 19/20\n",
            "10/10 [==============================] - 7s 706ms/step - loss: 0.2630 - accuracy: 0.6322\n",
            "\n",
            "Epoch 00019: loss improved from 0.28561 to 0.26205, saving model to VietAI.hdf5\n",
            "Epoch 20/20\n",
            "10/10 [==============================] - 8s 807ms/step - loss: 0.2622 - accuracy: 0.6202\n",
            "\n",
            "Epoch 00020: loss improved from 0.26205 to 0.26053, saving model to VietAI.hdf5\n"
          ],
          "name": "stdout"
        }
      ]
    },
    {
      "cell_type": "code",
      "metadata": {
        "colab": {
          "base_uri": "https://localhost:8080/"
        },
        "id": "XvhOy5akhbjG",
        "outputId": "9936393f-e570-4208-f89c-98eaf4ab0b9d"
      },
      "source": [
        "print(history.history)"
      ],
      "execution_count": 30,
      "outputs": [
        {
          "output_type": "stream",
          "text": [
            "{'loss': [0.4890759587287903, 0.44129037857055664, 0.4433651268482208, 0.41364485025405884, 0.4092329442501068, 0.3924838900566101, 0.36222437024116516, 0.3736587166786194, 0.3376171886920929, 0.33430710434913635, 0.3310147523880005, 0.3360389471054077, 0.3461061120033264, 0.30967170000076294, 0.29928964376449585, 0.3082214295864105, 0.32672637701034546, 0.28561118245124817, 0.2620479464530945, 0.26053160429000854], 'accuracy': [0.29374998807907104, 0.35624998807907104, 0.33544304966926575, 0.3499999940395355, 0.35759493708610535, 0.36250001192092896, 0.4556961953639984, 0.421875, 0.4905063211917877, 0.5218750238418579, 0.5, 0.5379746556282043, 0.4437499940395355, 0.550000011920929, 0.559374988079071, 0.5375000238418579, 0.503125011920929, 0.5531250238418579, 0.643750011920929, 0.643750011920929]}\n"
          ],
          "name": "stdout"
        }
      ]
    },
    {
      "cell_type": "code",
      "metadata": {
        "colab": {
          "base_uri": "https://localhost:8080/",
          "height": 283
        },
        "id": "i7um_C4zhbjG",
        "outputId": "1c8b044f-3819-49c7-e3e6-69806fa34397"
      },
      "source": [
        "# Plot history\n",
        "import matplotlib.pyplot as plt\n",
        "\n",
        "plt.plot(history.history['loss'], label='loss')\n",
        "plt.xlabel('Epoch')\n",
        "plt.ylabel('BCE')\n",
        "plt.ylim([0, 1])\n",
        "plt.show()"
      ],
      "execution_count": 31,
      "outputs": [
        {
          "output_type": "display_data",
          "data": {
            "image/png": "[encoded data removed]",
            "text/plain": [
              "<Figure size 432x288 with 1 Axes>"
            ]
          },
          "metadata": {
            "tags": [],
            "needs_background": "light"
          }
        }
      ]
    },
    {
      "cell_type": "code",
      "metadata": {
        "id": "4EwKkp0yhbjH"
      },
      "source": [
        "#model.save('my_model.h5')"
      ],
      "execution_count": 32,
      "outputs": []
    },
    {
      "cell_type": "code",
      "metadata": {
        "id": "Vd44iMOwhbjI"
      },
      "source": [
        "dependencies = {\n",
        "    'f1': f1\n",
        "}"
      ],
      "execution_count": 33,
      "outputs": []
    },
    {
      "cell_type": "code",
      "metadata": {
        "id": "Wscdq1V2hbjI"
      },
      "source": [
        "from tensorflow.keras.models import load_model\n",
        "\n",
        "mod=load_model('my_model.h5',custom_objects=dependencies)"
      ],
      "execution_count": 34,
      "outputs": []
    },
    {
      "cell_type": "code",
      "metadata": {
        "id": "qPqEvB4Yhbjd"
      },
      "source": [
        "# Try focal loss for 80/20 split data\n",
        "# focal loss with multi label\n",
        "def focal_loss(classes_num, gamma=2., alpha=.25, e=0.1):\n",
        "    # classes_num contains sample number of each classes\n",
        "    def focal_loss_fixed(target_tensor, prediction_tensor):\n",
        "        '''\n",
        "        prediction_tensor is the output tensor with shape [None, 100], where 100 is the number of classes\n",
        "        target_tensor is the label tensor, same shape as predcition_tensor\n",
        "        '''\n",
        "        import tensorflow as tf\n",
        "        from tensorflow.python.ops import array_ops\n",
        "        from keras import backend as K\n",
        "\n",
        "        #1# get focal loss with no balanced weight which presented in paper function (4)\n",
        "        zeros = array_ops.zeros_like(prediction_tensor, dtype=prediction_tensor.dtype)\n",
        "        one_minus_p = array_ops.where(tf.greater(target_tensor,zeros), target_tensor - prediction_tensor, zeros)\n",
        "        FT = -1 * (one_minus_p ** gamma) * tf.log(tf.clip_by_value(prediction_tensor, 1e-8, 1.0))\n",
        "\n",
        "        #2# get balanced weight alpha\n",
        "        classes_weight = array_ops.zeros_like(prediction_tensor, dtype=prediction_tensor.dtype)\n",
        "\n",
        "        total_num = float(sum(classes_num))\n",
        "        classes_w_t1 = [ total_num / ff for ff in classes_num ]\n",
        "        sum_ = sum(classes_w_t1)\n",
        "        classes_w_t2 = [ ff/sum_ for ff in classes_w_t1 ]   #scale\n",
        "        classes_w_tensor = tf.convert_to_tensor(classes_w_t2, dtype=prediction_tensor.dtype)\n",
        "        classes_weight += classes_w_tensor\n",
        "\n",
        "        alpha = array_ops.where(tf.greater(target_tensor, zeros), classes_weight, zeros)\n",
        "\n",
        "        #3# get balanced focal loss\n",
        "        balanced_fl = alpha * FT\n",
        "        balanced_fl = tf.reduce_mean(balanced_fl)\n",
        "\n",
        "        #4# add other op to prevent overfit\n",
        "        # reference : https://spaces.ac.cn/archives/4493\n",
        "        nb_classes = len(classes_num)\n",
        "        fianal_loss = (1-e) * balanced_fl + e * K.categorical_crossentropy(K.ones_like(prediction_tensor)/nb_classes, prediction_tensor)\n",
        "\n",
        "        return fianal_loss\n",
        "    return focal_loss_fixed\n",
        "\n",
        "#model.compile(optimizer=SGD(lr=learning_rate, momentum=0.9), loss=[focal_loss(classes_num)], metrics=['accuracy'])"
      ],
      "execution_count": 35,
      "outputs": []
    },
    {
      "cell_type": "code",
      "metadata": {
        "colab": {
          "base_uri": "https://localhost:8080/"
        },
        "id": "ESnSeGFwhbjg",
        "outputId": "c58f78e5-fc91-430c-954d-4e824c2bd520"
      },
      "source": [
        "pred = model.predict_generator(val_gen, 80,verbose=1)"
      ],
      "execution_count": 36,
      "outputs": [
        {
          "output_type": "stream",
          "text": [
            "/usr/local/lib/python3.7/dist-packages/tensorflow/python/keras/engine/training.py:1905: UserWarning: `Model.predict_generator` is deprecated and will be removed in a future version. Please use `Model.predict`, which supports generators.\n",
            "  warnings.warn('`Model.predict_generator` is deprecated and '\n",
            "/usr/local/lib/python3.7/dist-packages/keras_preprocessing/image/image_data_generator.py:720: UserWarning: This ImageDataGenerator specifies `featurewise_center`, but it hasn't been fit on any training data. Fit it first by calling `.fit(numpy_data)`.\n",
            "  warnings.warn('This ImageDataGenerator specifies '\n",
            "/usr/local/lib/python3.7/dist-packages/keras_preprocessing/image/image_data_generator.py:728: UserWarning: This ImageDataGenerator specifies `featurewise_std_normalization`, but it hasn't been fit on any training data. Fit it first by calling `.fit(numpy_data)`.\n",
            "  warnings.warn('This ImageDataGenerator specifies '\n"
          ],
          "name": "stderr"
        },
        {
          "output_type": "stream",
          "text": [
            "80/80 [==============================] - 25s 293ms/step\n"
          ],
          "name": "stdout"
        }
      ]
    },
    {
      "cell_type": "code",
      "metadata": {
        "colab": {
          "base_uri": "https://localhost:8080/",
          "height": 770
        },
        "id": "16PxHZ9bhbkM",
        "outputId": "6a5e5677-9f1a-4cab-823c-b01c254c85f4"
      },
      "source": [
        "for e in range(5):\n",
        "    print('Epoch', e)\n",
        "    batches = 0\n",
        "    for x_batch, y_batch in val_gen:\n",
        "        #print(np.max(x_batch))\n",
        "        for i in range(0, 1):\n",
        "            plt.subplot(330+1 + i)\n",
        "            plt.imshow(x_batch[i], cmap=plt.get_cmap('gray'))\n",
        "            print(y_batch[i])\n",
        "        \n",
        "\n",
        "        plt.show()\n",
        "        \n",
        "        break"
      ],
      "execution_count": 37,
      "outputs": [
        {
          "output_type": "stream",
          "text": [
            "Epoch 0\n",
            "[0. 1. 0. 0. 0. 0. 0.]\n"
          ],
          "name": "stdout"
        },
        {
          "output_type": "stream",
          "text": [
            "/usr/local/lib/python3.7/dist-packages/keras_preprocessing/image/image_data_generator.py:720: UserWarning: This ImageDataGenerator specifies `featurewise_center`, but it hasn't been fit on any training data. Fit it first by calling `.fit(numpy_data)`.\n",
            "  warnings.warn('This ImageDataGenerator specifies '\n",
            "/usr/local/lib/python3.7/dist-packages/keras_preprocessing/image/image_data_generator.py:728: UserWarning: This ImageDataGenerator specifies `featurewise_std_normalization`, but it hasn't been fit on any training data. Fit it first by calling `.fit(numpy_data)`.\n",
            "  warnings.warn('This ImageDataGenerator specifies '\n"
          ],
          "name": "stderr"
        },
        {
          "output_type": "display_data",
          "data": {
            "image/png": "[encoded data removed]",
            "text/plain": [
              "<Figure size 432x288 with 1 Axes>"
            ]
          },
          "metadata": {
            "tags": [],
            "needs_background": "light"
          }
        },
        {
          "output_type": "stream",
          "text": [
            "Epoch 1\n",
            "[0. 0. 0. 1. 0. 0. 1.]\n"
          ],
          "name": "stdout"
        },
        {
          "output_type": "display_data",
          "data": {
            "image/png": "[encoded data removed]",
            "text/plain": [
              "<Figure size 432x288 with 1 Axes>"
            ]
          },
          "metadata": {
            "tags": [],
            "needs_background": "light"
          }
        },
        {
          "output_type": "stream",
          "text": [
            "Epoch 2\n",
            "[0. 0. 1. 0. 0. 0. 0.]\n"
          ],
          "name": "stdout"
        },
        {
          "output_type": "display_data",
          "data": {
            "image/png": "[encoded data removed]",
            "text/plain": [
              "<Figure size 432x288 with 1 Axes>"
            ]
          },
          "metadata": {
            "tags": [],
            "needs_background": "light"
          }
        },
        {
          "output_type": "stream",
          "text": [
            "Epoch 3\n",
            "[0. 0. 0. 0. 1. 0. 0.]\n"
          ],
          "name": "stdout"
        },
        {
          "output_type": "display_data",
          "data": {
            "image/png": "[encoded data removed]",
            "text/plain": [
              "<Figure size 432x288 with 1 Axes>"
            ]
          },
          "metadata": {
            "tags": [],
            "needs_background": "light"
          }
        },
        {
          "output_type": "stream",
          "text": [
            "Epoch 4\n",
            "[0. 0. 0. 1. 0. 1. 1.]\n"
          ],
          "name": "stdout"
        },
        {
          "output_type": "display_data",
          "data": {
            "image/png": "[encoded data removed]",
            "text/plain": [
              "<Figure size 432x288 with 1 Axes>"
            ]
          },
          "metadata": {
            "tags": [],
            "needs_background": "light"
          }
        }
      ]
    },
    {
      "cell_type": "code",
      "metadata": {
        "colab": {
          "base_uri": "https://localhost:8080/"
        },
        "id": "0cIlBYTlhbkO",
        "outputId": "fa8293c5-4d52-463b-9600-7c2a6204738a"
      },
      "source": [
        "for e in range(10):\n",
        "    print('Epoch', e)\n",
        "    for x_batch, y_batch in val_gen:\n",
        "        pred = model.predict(x_batch, verbose=1)\n",
        "        print(pred,y_batch)\n",
        "        \n",
        "        break"
      ],
      "execution_count": 38,
      "outputs": [
        {
          "output_type": "stream",
          "text": [
            "Epoch 0\n"
          ],
          "name": "stdout"
        },
        {
          "output_type": "stream",
          "text": [
            "/usr/local/lib/python3.7/dist-packages/keras_preprocessing/image/image_data_generator.py:720: UserWarning: This ImageDataGenerator specifies `featurewise_center`, but it hasn't been fit on any training data. Fit it first by calling `.fit(numpy_data)`.\n",
            "  warnings.warn('This ImageDataGenerator specifies '\n",
            "/usr/local/lib/python3.7/dist-packages/keras_preprocessing/image/image_data_generator.py:728: UserWarning: This ImageDataGenerator specifies `featurewise_std_normalization`, but it hasn't been fit on any training data. Fit it first by calling `.fit(numpy_data)`.\n",
            "  warnings.warn('This ImageDataGenerator specifies '\n"
          ],
          "name": "stderr"
        },
        {
          "output_type": "stream",
          "text": [
            "1/1 [==============================] - 1s 1s/step\n",
            "[[0.49057513 0.02677384 0.04960263 0.08479933 0.00123486 0.7524141\n",
            "  0.03520799]] [[0. 0. 0. 0. 0. 1. 0.]]\n",
            "Epoch 1\n",
            "1/1 [==============================] - 0s 28ms/step\n",
            "[[8.2892383e-04 9.7983289e-01 1.0132414e-03 5.2415178e-04 2.0796966e-03\n",
            "  2.2511643e-01 5.4684239e-03]] [[0. 1. 0. 0. 0. 0. 0.]]\n",
            "Epoch 2\n",
            "1/1 [==============================] - 0s 24ms/step\n",
            "[[4.5610958e-01 2.6143133e-03 3.8602384e-04 5.4404363e-03 8.6296815e-01\n",
            "  8.0400035e-03 6.1963424e-03]] [[0. 0. 0. 1. 0. 0. 1.]]\n",
            "Epoch 3\n",
            "1/1 [==============================] - 0s 27ms/step\n",
            "[[0.7597991  0.01471016 0.08700618 0.24713866 0.00081438 0.6792034\n",
            "  0.03770944]] [[0. 0. 1. 0. 0. 1. 0.]]\n",
            "Epoch 4\n",
            "1/1 [==============================] - 0s 26ms/step\n",
            "[[1.0367398e-02 9.1492785e-03 1.7761464e-03 5.1697227e-04 9.8728460e-01\n",
            "  5.3799013e-03 5.5612344e-03]] [[1. 0. 0. 0. 0. 0. 0.]]\n",
            "Epoch 5\n",
            "1/1 [==============================] - 0s 22ms/step\n",
            "[[9.9593949e-01 2.4257312e-03 4.2434197e-04 3.0233464e-01 3.7281476e-05\n",
            "  3.9061170e-02 2.3416525e-03]] [[1. 0. 0. 1. 0. 0. 0.]]\n",
            "Epoch 6\n",
            "1/1 [==============================] - 0s 21ms/step\n",
            "[[0.75663346 0.00116812 0.00084183 0.04183408 0.58718145 0.02191462\n",
            "  0.01159332]] [[0. 0. 0. 0. 0. 1. 1.]]\n",
            "Epoch 7\n",
            "1/1 [==============================] - 0s 21ms/step\n",
            "[[0.3149137  0.02967549 0.09000293 0.08556069 0.00198352 0.8308008\n",
            "  0.04348619]] [[0. 0. 0. 0. 0. 1. 0.]]\n",
            "Epoch 8\n",
            "1/1 [==============================] - 0s 27ms/step\n",
            "[[1.1078809e-02 9.5864408e-02 5.2557286e-04 1.9414409e-04 6.4905810e-01\n",
            "  4.8450224e-02 2.6462008e-03]] [[0. 0. 0. 0. 0. 1. 0.]]\n",
            "Epoch 9\n",
            "1/1 [==============================] - 0s 28ms/step\n",
            "[[1.8719606e-06 1.4821197e-10 9.9317898e-10 3.7587763e-10 1.0000000e+00\n",
            "  4.3454973e-09 9.2346745e-06]] [[0. 0. 0. 0. 1. 0. 0.]]\n"
          ],
          "name": "stdout"
        }
      ]
    },
    {
      "cell_type": "code",
      "metadata": {
        "id": "MGUZjD3GhbkO"
      },
      "source": [
        "labels = (train_gen.class_indices)\n",
        "labels = dict((v,k) for k,v in labels.items())\n",
        "labels\n",
        "LABELS = list(LABELS)\n",
        "\n",
        "def probs2label(probs):\n",
        "    ''' Return real index following LABELS\n",
        "    '''\n",
        "    global LABELS, labels\n",
        "    result = \" \".join([str(LABELS.index(labels[idx])) for idx, prob in enumerate(probs) if prob > 0.5])\n",
        "    print(result)\n",
        "    return result"
      ],
      "execution_count": 39,
      "outputs": []
    },
    {
      "cell_type": "code",
      "metadata": {
        "colab": {
          "base_uri": "https://localhost:8080/"
        },
        "id": "GUs1WcBahbkP",
        "outputId": "4d2e0561-b100-4e48-ffdb-7f8dc8585622"
      },
      "source": [
        "print(labels)"
      ],
      "execution_count": 40,
      "outputs": [
        {
          "output_type": "stream",
          "text": [
            "{0: 'diabetic retinopathy', 1: 'glaucoma', 2: 'macular degeneration', 3: 'macular edema', 4: 'normal', 5: 'opacity', 6: 'retinal vascular occlusion'}\n"
          ],
          "name": "stdout"
        }
      ]
    }
  ]
}