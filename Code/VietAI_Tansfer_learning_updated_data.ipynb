{
  "nbformat": 4,
  "nbformat_minor": 0,
  "metadata": {
    "colab": {
      "name": "VietAI_Tansfer_learning_updated_data.ipynb",
      "provenance": [],
      "collapsed_sections": [],
      "machine_shape": "hm"
    },
    "kernelspec": {
      "display_name": "Python 3",
      "language": "python",
      "name": "python3"
    },
    "language_info": {
      "codemirror_mode": {
        "name": "ipython",
        "version": 3
      },
      "file_extension": ".py",
      "mimetype": "text/x-python",
      "name": "python",
      "nbconvert_exporter": "python",
      "pygments_lexer": "ipython3",
      "version": "3.8.5"
    },
    "accelerator": "GPU"
  },
  "cells": [
    {
      "cell_type": "markdown",
      "metadata": {
        "id": "fb2aIpRo-2YH"
      },
      "source": [
        "# This code is replication of basline for VietAI data set, multilabel pathology classification\n",
        "https://www.kaggle.com/hmchuong/keras-baseline-model"
      ]
    },
    {
      "cell_type": "code",
      "metadata": {
        "colab": {
          "base_uri": "https://localhost:8080/"
        },
        "id": "6w4pUsO_Kb6G",
        "outputId": "4c1af19f-5216-448f-a9ec-c325766064d5"
      },
      "source": [
        "from google.colab import drive\n",
        "drive.mount('/content/drive')"
      ],
      "execution_count": null,
      "outputs": [
        {
          "output_type": "stream",
          "text": [
            "Drive already mounted at /content/drive; to attempt to forcibly remount, call drive.mount(\"/content/drive\", force_remount=True).\n"
          ],
          "name": "stdout"
        }
      ]
    },
    {
      "cell_type": "code",
      "metadata": {
        "colab": {
          "base_uri": "https://localhost:8080/"
        },
        "id": "jM9gsIy3KeHV",
        "outputId": "e958df84-711b-418b-ec8c-02ecfd9fb8d4"
      },
      "source": [
        "import os\n",
        "os.chdir('/content/drive/MyDrive/Viet_AI/Data')\n",
        "print(os.listdir(\".\"))"
      ],
      "execution_count": null,
      "outputs": [
        {
          "output_type": "stream",
          "text": [
            "['train.csv', 'MLE_at_Epic_Software-SOLUTIONS.ipynb', 'U-net_TF2_retinal_image_segmentation_STARE.ipynb', 'U-net_binary_DB1.ipynb', 'resnet50.h5', 'my_model.h5', 'VietAI.hdf5', 'VietAI_Basline.ipynb', 'test', '.ipynb_checkpoints', 'train', 'logs', 'VietAI_multi-label.ipynb', 'mclass_data.npz', 'CNN_multi.h5', 'data.npz', 'VietAI_Tansfer_learning (1).ipynb', 'TF_30.h5', 'TF_conv_30.h5', 'VietAI_Tansfer_learning-conv.ipynb', 'LP_TF.npz', 'LP_TF_test.npz', 'TF.h5', 'VietAI_Tansfer_learning.ipynb', 'VietAI-visualize.ipynb', 'VietAI_multi_label-multi_class.ipynb', 'Viet_AI_LP_TF_noFalse_all_data.ipynb', 'TF_half_30.h5', 'LP_TF_half.npz', 'LP_TF_half_test.npz', 'VietAI-Label_propagate_TF_data_create.ipynb', 'new_train_data.npz', 'TF_1580_20.h5', 'VietAI-visualize-TF.ipynb', 'output', 'ipykernel_launcher.py_plot.png', 'TF_all_20.h5', 'Viet_AI_Results.gsheet']\n"
          ],
          "name": "stdout"
        }
      ]
    },
    {
      "cell_type": "code",
      "metadata": {
        "id": "eIOWRhdy-2YM"
      },
      "source": [
        "import numpy as np # linear algebra\n",
        "import pandas as pd # data processing, CSV file I/O (e.g. pd.read_csv)"
      ],
      "execution_count": null,
      "outputs": []
    },
    {
      "cell_type": "code",
      "metadata": {
        "colab": {
          "base_uri": "https://localhost:8080/"
        },
        "id": "FzY_07LT-2YN",
        "outputId": "f9ae426d-904f-4b29-e009-fa59e1902f3c"
      },
      "source": [
        "import sys\n",
        "\n",
        "from sklearn.model_selection import train_test_split\n",
        "from sklearn.metrics import f1_score\n",
        "\n",
        "import tensorflow as tf\n",
        "import tensorflow.keras as keras\n",
        "from tensorflow.keras.preprocessing.image import load_img, img_to_array\n",
        "\n",
        "from PIL import Image\n",
        "\n",
        "# Check Eager Execution\n",
        "tf.executing_eagerly() "
      ],
      "execution_count": null,
      "outputs": [
        {
          "output_type": "execute_result",
          "data": {
            "text/plain": [
              "True"
            ]
          },
          "metadata": {
            "tags": []
          },
          "execution_count": 13
        }
      ]
    },
    {
      "cell_type": "code",
      "metadata": {
        "id": "CX7UCB1G-2YO"
      },
      "source": [
        "# data = pd.read_csv(\"train.csv\")\n",
        "# data.head()"
      ],
      "execution_count": null,
      "outputs": []
    },
    {
      "cell_type": "code",
      "metadata": {
        "id": "OmQoFP2W-2YO"
      },
      "source": [
        "# print(data.shape)\n",
        "# l=len(data)\n",
        "# print(l)\n",
        "# num_class=data.shape[1]-1\n",
        "# print(num_class)"
      ],
      "execution_count": null,
      "outputs": []
    },
    {
      "cell_type": "code",
      "metadata": {
        "id": "bv_t1TR8KwVt"
      },
      "source": [
        "# def load_dataset(img_path, data):\n",
        "#     images, targets = list(), list()\n",
        "#     # enumerate files in the directory\n",
        "#     for idx in range(l):\n",
        "#     # load image\n",
        "#         print(idx)\n",
        "#         filename=str(data.iloc[idx,0])\n",
        "#         img = load_img(img_path + filename, target_size=(256,256), color_mode='rgb')\n",
        "#         # convert to numpy array\n",
        "#         img = img_to_array(img, dtype='uint8')\n",
        "#         #print(np.shape(img))\n",
        "#         target = np.array(data.iloc[idx,1:8])\n",
        "#         images.append(img)\n",
        "#         targets.append(target)\n",
        "#     X = np.asarray(images, dtype='uint8')\n",
        "#     y = np.asarray(targets, dtype='uint8')\n",
        "#     trainX, testX, trainY, testY = train_test_split(X, y, test_size=0.2, random_state=42)\n",
        "#     return trainX, testX, trainY, testY"
      ],
      "execution_count": null,
      "outputs": []
    },
    {
      "cell_type": "code",
      "metadata": {
        "id": "EhnvFCZ_Kyhm"
      },
      "source": [
        "# # load the images and labels\n",
        "# img_path = './train/train/'\n",
        "# trainX, testX, trainY, testY = load_dataset(img_path, data)"
      ],
      "execution_count": null,
      "outputs": []
    },
    {
      "cell_type": "code",
      "metadata": {
        "colab": {
          "base_uri": "https://localhost:8080/"
        },
        "id": "cMCcDdnjzxwI",
        "outputId": "c4e0429c-1978-4f34-bc0a-e21ae5cb947a"
      },
      "source": [
        "#Now load the data\n",
        "# Load the npy files\n",
        "npzfile=np.load('new_train_data.npz')\n",
        "print(npzfile.files)\n",
        "trainX=npzfile['arr_0']\n",
        "trainY=npzfile['arr_1']\n",
        "testX=npzfile['arr_2']\n",
        "testY=npzfile['arr_3']\n",
        "num_class=7\n",
        "np.shape(trainX), np.shape(testX)"
      ],
      "execution_count": null,
      "outputs": [
        {
          "output_type": "stream",
          "text": [
            "['arr_0', 'arr_1', 'arr_2', 'arr_3']\n"
          ],
          "name": "stdout"
        },
        {
          "output_type": "execute_result",
          "data": {
            "text/plain": [
              "((1930, 256, 256, 3), (687, 256, 256, 3))"
            ]
          },
          "metadata": {
            "tags": []
          },
          "execution_count": 18
        }
      ]
    },
    {
      "cell_type": "code",
      "metadata": {
        "colab": {
          "base_uri": "https://localhost:8080/"
        },
        "id": "pLCPobD42PAQ",
        "outputId": "43e90f68-37c8-4703-efa9-01d5e827b081"
      },
      "source": [
        "X=trainX[:1580]\n",
        "Y=trainY[:1580]\n",
        "print(np.shape(X))"
      ],
      "execution_count": null,
      "outputs": [
        {
          "output_type": "stream",
          "text": [
            "(1580, 256, 256, 3)\n"
          ],
          "name": "stdout"
        }
      ]
    },
    {
      "cell_type": "code",
      "metadata": {
        "id": "Q6DMJDHAv9oM"
      },
      "source": [
        "def return_per_class_counter(Y):\n",
        "  C=np.zeros(7)\n",
        "  for i in range(7):\n",
        "    C[i]=np.sum(Y[:,i])\n",
        "  return C"
      ],
      "execution_count": null,
      "outputs": []
    },
    {
      "cell_type": "code",
      "metadata": {
        "colab": {
          "base_uri": "https://localhost:8080/"
        },
        "id": "zQOWezrtwAWY",
        "outputId": "8b237851-9fc8-4302-ebd9-f114fe51f233"
      },
      "source": [
        "vals=return_per_class_counter(trainY)\n",
        "print(vals)"
      ],
      "execution_count": null,
      "outputs": [
        {
          "output_type": "stream",
          "text": [
            "[845. 301. 396. 243. 266. 262. 300.]\n"
          ],
          "name": "stdout"
        }
      ]
    },
    {
      "cell_type": "markdown",
      "metadata": {
        "id": "67rbVoJU-2YS"
      },
      "source": [
        "# Define the model"
      ]
    },
    {
      "cell_type": "code",
      "metadata": {
        "id": "bNyB8IgdM1Wx"
      },
      "source": [
        "import tensorflow.keras.backend as K\n",
        "from tensorflow.keras.preprocessing.image import ImageDataGenerator\n",
        "# calculate fbeta score for multi-class/label classification\n",
        "def fbeta(y_true, y_pred, beta=1):\n",
        "\t# clip predictions\n",
        "\ty_pred = K.clip(y_pred, 0, 1)\n",
        "\t# calculate elements\n",
        "\ttp = K.sum(K.round(K.clip(y_true * y_pred, 0, 1)), axis=1)\n",
        "\tfp = K.sum(K.round(K.clip(y_pred - y_true, 0, 1)), axis=1)\n",
        "\tfn = K.sum(K.round(K.clip(y_true - y_pred, 0, 1)), axis=1)\n",
        "\t# calculate precision\n",
        "\tp = tp / (tp + fp + K.epsilon())\n",
        "\t# calculate recall\n",
        "\tr = tp / (tp + fn + K.epsilon())\n",
        "\t# calculate fbeta, averaged across each class\n",
        "\tbb = beta ** 2\n",
        "\tfbeta_score = K.mean((1 + bb) * (p * r) / (bb * p + r + K.epsilon()))\n",
        "\treturn fbeta_score\n",
        " "
      ],
      "execution_count": null,
      "outputs": []
    },
    {
      "cell_type": "code",
      "metadata": {
        "id": "KiskukX--2YT"
      },
      "source": [
        "# base_model = keras.applications.InceptionV3(input_shape=(256,256,3),\n",
        "#                                     include_top=False,\n",
        "#                                     weights='imagenet')\n",
        "# base_model.trainable = True\n",
        "\n",
        "# model_TF = keras.Sequential([\n",
        "#   base_model,\n",
        "#   keras.layers.GlobalAveragePooling2D(),\n",
        "#   #keras.layers.Dense(512, activation='relu'), #add another layer for visualization\n",
        "#   keras.layers.Dense(num_class, activation='sigmoid')\n",
        "# ])\n",
        "\n",
        "# # Print out model summary\n",
        "# model_TF.summary()"
      ],
      "execution_count": null,
      "outputs": []
    },
    {
      "cell_type": "code",
      "metadata": {
        "id": "xDIIQqcIzKZd"
      },
      "source": [
        "# for layer in base_model.layers:\n",
        "#   if 'conv' not in layer.name:\n",
        "#     continue\n",
        "#   filters=layer.get_weights()\n",
        "#   print(layer.name, np.shape(filters))"
      ],
      "execution_count": null,
      "outputs": []
    },
    {
      "cell_type": "code",
      "metadata": {
        "id": "MmRhwBsXVXET"
      },
      "source": [
        "# # plot diagnostic learning curves\n",
        "# import matplotlib.pyplot as plt\n",
        "\n",
        "# def summarize_diagnostics(history):\n",
        "# \t# plot loss\n",
        "# \tplt.subplot(211)\n",
        "# \tplt.title('Cross Entropy Loss')\n",
        "# \tplt.plot(history.history['loss'], color='blue', label='train')\n",
        "# \t#plt.plot(history.history['val_loss'], color='orange', label='test')\n",
        "# \t# plot accuracy\n",
        "# \tplt.subplot(212)\n",
        "# \tplt.title('Fbeta')\n",
        "# \tplt.plot(history.history['fbeta'], color='blue', label='train')\n",
        "# \t#plt.plot(history.history['val_fbeta'], color='orange', label='test')\n",
        "# \t# save plot to file\n",
        "# \tfilename = sys.argv[0].split('/')[-1]\n",
        "# \tplt.savefig(filename + '_plot.png')\n",
        "\t"
      ],
      "execution_count": null,
      "outputs": []
    },
    {
      "cell_type": "code",
      "metadata": {
        "id": "bsdsLRF5j4IF"
      },
      "source": [
        "def preprocessing_image(image):\n",
        "    \"\"\"\n",
        "    Preprocess image after resize and augment data with ImageDataGenerator\n",
        "    \n",
        "    Parameters\n",
        "    ----------\n",
        "    image: numpy tensor with rank 3\n",
        "        image to preprocessing\n",
        "    \n",
        "    Returns\n",
        "    -------\n",
        "    numpy tensor with rank 3\n",
        "    \"\"\"\n",
        "    rotation_range=5.,\n",
        "    width_shift_range=0.1,\n",
        "    height_shift_range=0.1,\n",
        "    zoom_range=0.1,\n",
        "    horizontal_flip=True,\n",
        "    vertical_flip=True,\n",
        "    #fill_mode='constant',\n",
        "    #data_format=\"channels_last\",\n",
        "    #preprocessing_function=contrast_only,\n",
        "    \n",
        "    \n",
        "    \n",
        "    return image"
      ],
      "execution_count": null,
      "outputs": []
    },
    {
      "cell_type": "code",
      "metadata": {
        "id": "h1R0Hx_eN0QA"
      },
      "source": [
        "# # run the test harness for evaluating a model\n",
        "traingen = ImageDataGenerator(rescale=1./255, preprocessing_function=preprocessing_image)\n",
        "# # specify imagenet mean values for centering\n",
        "# testgen = ImageDataGenerator(rescale=1./255, preprocessing_function=preprocessing_image)\n",
        "\n",
        "# # prepare iterators\n",
        "# train_it = traingen.flow(trainX, trainY, batch_size=50)\n",
        "# test_it = testgen.flow(testX, testY, batch_size=50)\n",
        "# # define model\n",
        "# model_TF.compile(optimizer=keras.optimizers.Adam(lr=0.001), loss='binary_crossentropy', metrics=[fbeta])\n",
        "# # fit model\n",
        "# history = model_TF.fit(train_it, steps_per_epoch=20, epochs=25, verbose=1)\n",
        "# \t#validation_data=test_it, validation_steps=20, epochs=20, verbose=1)\n",
        "# # evaluate model\n",
        "# #loss, fbeta = model_TF.evaluate_generator(test_it, steps=len(test_it), verbose=0)\n",
        "# #print('> loss=%.3f, fbeta=%.3f' % (loss, fbeta))\n",
        "# \t# learning curves\n",
        "\n"
      ],
      "execution_count": null,
      "outputs": []
    },
    {
      "cell_type": "code",
      "metadata": {
        "id": "lu4960AE-2YX"
      },
      "source": [
        "# summarize_diagnostics(history)"
      ],
      "execution_count": null,
      "outputs": []
    },
    {
      "cell_type": "code",
      "metadata": {
        "id": "zCG5O7xj-2YX"
      },
      "source": [
        "#print(history.history['val_loss'], history.history['val_fbeta'])"
      ],
      "execution_count": null,
      "outputs": []
    },
    {
      "cell_type": "code",
      "metadata": {
        "colab": {
          "base_uri": "https://localhost:8080/"
        },
        "id": "Sh4QwEj6iwfR",
        "outputId": "961699b4-a8fd-4309-e8a4-7964393f0a68"
      },
      "source": [
        "import os\n",
        "print(os.getcwd())"
      ],
      "execution_count": null,
      "outputs": [
        {
          "output_type": "stream",
          "text": [
            "/content/drive/My Drive/Viet_AI/Data\n"
          ],
          "name": "stdout"
        }
      ]
    },
    {
      "cell_type": "code",
      "metadata": {
        "colab": {
          "base_uri": "https://localhost:8080/"
        },
        "id": "StESk_jUiWjd",
        "outputId": "3706cab1-7d58-49f5-90ce-ed14e4faa7f0"
      },
      "source": [
        "from tensorflow.keras.models import load_model\n",
        "model_TF=load_model('TF_all_20.h5', custom_objects={'fbeta': fbeta}) #TF_30 is best\n",
        "model_TF.summary()"
      ],
      "execution_count": null,
      "outputs": [
        {
          "output_type": "stream",
          "text": [
            "Model: \"sequential\"\n",
            "_________________________________________________________________\n",
            "Layer (type)                 Output Shape              Param #   \n",
            "=================================================================\n",
            "inception_v3 (Functional)    (None, 6, 6, 2048)        21802784  \n",
            "_________________________________________________________________\n",
            "global_average_pooling2d (Gl (None, 2048)              0         \n",
            "_________________________________________________________________\n",
            "dense (Dense)                (None, 7)                 14343     \n",
            "=================================================================\n",
            "Total params: 21,817,127\n",
            "Trainable params: 21,782,695\n",
            "Non-trainable params: 34,432\n",
            "_________________________________________________________________\n"
          ],
          "name": "stdout"
        }
      ]
    },
    {
      "cell_type": "code",
      "metadata": {
        "id": "_1aWONus-2YY",
        "colab": {
          "base_uri": "https://localhost:8080/"
        },
        "outputId": "74680a4f-f3e9-4a5c-e814-42fb625443ee"
      },
      "source": [
        "pred=model_TF.predict(np.true_divide(testX,255),batch_size=1, verbose=1)"
      ],
      "execution_count": null,
      "outputs": [
        {
          "output_type": "stream",
          "text": [
            "687/687 [==============================] - 25s 11ms/step\n"
          ],
          "name": "stdout"
        }
      ]
    },
    {
      "cell_type": "code",
      "metadata": {
        "id": "OqceQV18WFqh",
        "colab": {
          "base_uri": "https://localhost:8080/"
        },
        "outputId": "4a94975c-9aba-4440-a4ef-45bdd5b07142"
      },
      "source": [
        "preds=(pred>0.02).astype(int)\n",
        "preds[0:5]"
      ],
      "execution_count": null,
      "outputs": [
        {
          "output_type": "execute_result",
          "data": {
            "text/plain": [
              "array([[0, 0, 1, 0, 0, 0, 0],\n",
              "       [0, 0, 1, 1, 1, 0, 0],\n",
              "       [1, 1, 1, 0, 1, 0, 0],\n",
              "       [0, 0, 0, 0, 0, 0, 1],\n",
              "       [1, 1, 0, 1, 1, 0, 0]])"
            ]
          },
          "metadata": {
            "tags": []
          },
          "execution_count": 33
        }
      ]
    },
    {
      "cell_type": "code",
      "metadata": {
        "id": "0HbyJMSMV0Jl"
      },
      "source": [
        "def return_metrics(y_true,y_pred):\n",
        "  #y_true is binary [0,1], so is y_pred\n",
        "  #return precision, recall, IOU, F1, Fbeta\n",
        "  tp = np.sum(y_true * y_pred)\n",
        "  fp = np.sum((y_pred - y_true)>0)\n",
        "  fn = np.sum((y_true - y_pred)>0)\n",
        "  #print(tp)\n",
        "  eps=0.000001\n",
        "\t# calculate precision\n",
        "  p = tp / (tp + fp + eps)\n",
        "\t# calculate recall\n",
        "  r = tp / (tp + fn + eps)\n",
        "  IoU=tp/(tp+fp+fn+eps) \n",
        "  F1=(2*tp)/((2*tp)+fp+fn)\n",
        "  beta=2*2\n",
        "  Fbeta=np.mean((1 + beta) * (p * r) / (beta * p + r + eps))\n",
        "  return p, r, IoU, F1, Fbeta\n"
      ],
      "execution_count": null,
      "outputs": []
    },
    {
      "cell_type": "code",
      "metadata": {
        "colab": {
          "base_uri": "https://localhost:8080/"
        },
        "id": "2X569JxEV4Z9",
        "outputId": "de449895-cf62-4c4b-b785-5de8ae3456e0"
      },
      "source": [
        "result=return_metrics(testY, preds)\n",
        "print(np.round(result,4))"
      ],
      "execution_count": null,
      "outputs": [
        {
          "output_type": "stream",
          "text": [
            "[0.4531 0.9276 0.4376 0.6088 0.7669]\n"
          ],
          "name": "stdout"
        }
      ]
    },
    {
      "cell_type": "code",
      "metadata": {
        "id": "_uJlXsUDXmGz"
      },
      "source": [
        "def return_per_class_metrics(y_true,y_pred):\n",
        "  p=np.zeros(7)\n",
        "  r=np.zeros(7)\n",
        "  Fbeta=np.zeros(7)\n",
        "  f=np.zeros(7)\n",
        "  eps=0.000001\n",
        "  beta=2*2\n",
        "  Fbeta=np.zeros(7)\n",
        "  for i in range(7):\n",
        "    y_t=y_true[:,i]\n",
        "    y_p=y_pred[:,i]\n",
        "    tp = np.sum(y_t * y_p)\n",
        "    fp = np.sum((y_p - y_t)>0)\n",
        "    fn = np.sum((y_t - y_p)>0)\n",
        "    p[i] = tp / (tp + fp + eps)\n",
        "    r[i] = tp / (tp + fn + eps)\n",
        "    f[i]=(2*p[i]*r[i])/(p[i]+r[i])\n",
        "    Fbeta[i]=np.mean((1 + beta) * (p[i] * r[i]) / (beta * p[i] + r[i] + eps))\n",
        "  return p, r, f, Fbeta"
      ],
      "execution_count": null,
      "outputs": []
    },
    {
      "cell_type": "code",
      "metadata": {
        "id": "p3CyANej1PSr",
        "colab": {
          "base_uri": "https://localhost:8080/"
        },
        "outputId": "678cc263-1423-4b3c-e977-279bd2d33d1c"
      },
      "source": [
        "c_result=return_per_class_metrics(testY,preds)\n",
        "c_result=np.transpose(np.round(c_result,4))\n",
        "print(c_result)\n",
        "print(np.mean(c_result, axis=0))"
      ],
      "execution_count": null,
      "outputs": [
        {
          "output_type": "stream",
          "text": [
            "[[0.6224 0.9768 0.7603 0.8769]\n",
            " [0.4878 0.9195 0.6375 0.7812]\n",
            " [0.3117 0.9099 0.4644 0.6576]\n",
            " [0.3633 0.8981 0.5173 0.6938]\n",
            " [0.3937 0.9576 0.558  0.7444]\n",
            " [0.3081 0.7531 0.4373 0.5843]\n",
            " [0.6051 0.95   0.7393 0.8528]]\n",
            "[0.44172857 0.90928571 0.58772857 0.74157143]\n"
          ],
          "name": "stdout"
        }
      ]
    },
    {
      "cell_type": "code",
      "metadata": {
        "id": "mJJnbbhPWTa5"
      },
      "source": [
        "#model_TF.save('TF_1580_20.h5')"
      ],
      "execution_count": null,
      "outputs": []
    },
    {
      "cell_type": "code",
      "metadata": {
        "id": "RNmZ8HVomQRB",
        "colab": {
          "base_uri": "https://localhost:8080/"
        },
        "outputId": "7841f38a-ceb5-4016-f965-219157f55eaa"
      },
      "source": [
        "preds[0:5]"
      ],
      "execution_count": null,
      "outputs": [
        {
          "output_type": "execute_result",
          "data": {
            "text/plain": [
              "array([[0, 0, 1, 0, 0, 0, 0],\n",
              "       [0, 0, 1, 1, 1, 0, 0],\n",
              "       [1, 1, 1, 0, 1, 0, 0],\n",
              "       [0, 0, 0, 0, 0, 0, 1],\n",
              "       [1, 1, 0, 1, 1, 0, 0]])"
            ]
          },
          "metadata": {
            "tags": []
          },
          "execution_count": 39
        }
      ]
    },
    {
      "cell_type": "markdown",
      "metadata": {
        "id": "QHdPhutB1ej6"
      },
      "source": [
        "# Add visualization here\n",
        "https://tf-explain.readthedocs.io/en/latest/methods.html#grad-cam"
      ]
    },
    {
      "cell_type": "code",
      "metadata": {
        "colab": {
          "base_uri": "https://localhost:8080/"
        },
        "id": "XJn8Wbkzl0Bf",
        "outputId": "027967bb-cfc1-45c6-a38b-a2c11af83cb0"
      },
      "source": [
        "! pip install tf-explain"
      ],
      "execution_count": null,
      "outputs": [
        {
          "output_type": "stream",
          "text": [
            "Collecting tf-explain\n",
            "\u001b[?25l  Downloading https://files.pythonhosted.org/packages/09/f0/4faa7a1749e39d0d623f801ccf185230d22b885fa212d8ee08aa47cebaa4/tf_explain-0.3.0-py3-none-any.whl (43kB)\n",
            "\r\u001b[K     |███████▌                        | 10kB 15.7MB/s eta 0:00:01\r\u001b[K     |███████████████                 | 20kB 22.5MB/s eta 0:00:01\r\u001b[K     |██████████████████████▋         | 30kB 26.1MB/s eta 0:00:01\r\u001b[K     |██████████████████████████████▏ | 40kB 19.6MB/s eta 0:00:01\r\u001b[K     |████████████████████████████████| 51kB 5.3MB/s \n",
            "\u001b[?25hInstalling collected packages: tf-explain\n",
            "Successfully installed tf-explain-0.3.0\n"
          ],
          "name": "stdout"
        }
      ]
    },
    {
      "cell_type": "code",
      "metadata": {
        "id": "l-LINVof1hre"
      },
      "source": [
        "from tf_explain.callbacks.grad_cam import GradCAMCallback\n",
        "from tf_explain.callbacks.occlusion_sensitivity import OcclusionSensitivityCallback\n"
      ],
      "execution_count": null,
      "outputs": []
    },
    {
      "cell_type": "code",
      "metadata": {
        "id": "R0aqLqkLmFzR"
      },
      "source": [
        "# Extract the test images with Glaucoma, ME and RVO\n",
        "import tf_explain\n",
        "tf.executing_eagerly() \n",
        "\n",
        "vis_test=list()\n",
        "vis_lab=list()\n",
        "vis_pred=list()\n",
        "iterations=np.zeros(7)\n",
        "#1. Galucoma\n",
        "for i in range(np.shape(testY)[0]):\n",
        "  if (np.sum(testY[i]*[1,0,0,0,0,0,0])>0 and iterations[0]<4):\n",
        "    vis_test.append(testX[i])\n",
        "    vis_lab.append(testY[i])\n",
        "    vis_pred.append(preds[i])\n",
        "    iterations[0]=iterations[0]+1\n",
        "  elif (np.sum(testY[i]*[0,1,0,0,0,0,0])>0 and iterations[1]<4):\n",
        "    vis_test.append(testX[i])\n",
        "    vis_lab.append(testY[i])\n",
        "    vis_pred.append(preds[i])\n",
        "    iterations[1]=iterations[1]+1\n",
        "  elif (np.sum(testY[i]*[0,0,1,0,0,0,0])>0 and iterations[2]<4):\n",
        "    vis_test.append(testX[i])\n",
        "    vis_lab.append(testY[i])\n",
        "    vis_pred.append(preds[i])\n",
        "    iterations[2]=iterations[2]+1\n",
        "  elif (np.sum(testY[i]*[0,0,0,1,0,0,0])>0 and iterations[3]<4):\n",
        "    vis_test.append(testX[i])\n",
        "    vis_lab.append(testY[i])\n",
        "    vis_pred.append(preds[i])\n",
        "    iterations[3]=iterations[3]+1\n",
        "  elif (np.sum(testY[i]*[0,0,0,0,1,0,0])>0 and iterations[4]<4):\n",
        "    vis_test.append(testX[i])\n",
        "    vis_lab.append(testY[i])\n",
        "    vis_pred.append(preds[i])\n",
        "    iterations[4]=iterations[4]+1\n",
        "  elif (np.sum(testY[i]*[0,0,0,0,0,1,0])>0 and iterations[5]<4):\n",
        "    vis_test.append(testX[i])\n",
        "    vis_lab.append(testY[i])\n",
        "    vis_pred.append(preds[i])\n",
        "    iterations[5]=iterations[5]+1\n",
        "\n",
        "vis_test=np.asarray(vis_test)\n",
        "vis_lab=np.asarray(vis_lab)\n",
        "vis_pred=np.asarray(vis_pred)"
      ],
      "execution_count": null,
      "outputs": []
    },
    {
      "cell_type": "code",
      "metadata": {
        "colab": {
          "base_uri": "https://localhost:8080/"
        },
        "id": "Q2L1vO8toSsZ",
        "outputId": "bdddbb9a-3496-4836-a1f1-a5b864f6e17b"
      },
      "source": [
        "print(np.shape(vis_test), np.shape(vis_lab))"
      ],
      "execution_count": null,
      "outputs": [
        {
          "output_type": "stream",
          "text": [
            "(24, 256, 256, 3) (24, 7)\n"
          ],
          "name": "stdout"
        }
      ]
    },
    {
      "cell_type": "code",
      "metadata": {
        "id": "FRRbRLVqkkfz",
        "colab": {
          "base_uri": "https://localhost:8080/"
        },
        "outputId": "e4487de8-5ccf-4f86-e957-6f69bb982213"
      },
      "source": [
        "#Step 3: Initialize Tensorboard to monitor changes in Model Loss \n",
        "import datetime\n",
        "%load_ext tensorboard\n",
        "log_dir = \"logs/fit/\" + datetime.datetime.now().strftime(\"%Y%m%d-%H%M%S\")\n",
        "tensorboard_callback = tf.keras.callbacks.TensorBoard(log_dir=log_dir, histogram_freq=1)"
      ],
      "execution_count": null,
      "outputs": [
        {
          "output_type": "stream",
          "text": [
            "The tensorboard extension is already loaded. To reload it, use:\n",
            "  %reload_ext tensorboard\n"
          ],
          "name": "stdout"
        }
      ]
    },
    {
      "cell_type": "code",
      "metadata": {
        "colab": {
          "base_uri": "https://localhost:8080/",
          "height": 838
        },
        "id": "57PyRUvUXVVk",
        "outputId": "ba94bb83-bdc8-485b-ad62-37a05f739405"
      },
      "source": [
        "#tensorboard command\n",
        "%tensorboard --logdir logs"
      ],
      "execution_count": null,
      "outputs": []
    },
    {
      "cell_type": "code",
      "metadata": {
        "id": "3sMZQr_tNAHi",
        "colab": {
          "base_uri": "https://localhost:8080/",
          "height": 286
        },
        "outputId": "6ff79d7c-e399-4a6d-a899-60ed624f31a4"
      },
      "source": [
        "import matplotlib.pyplot as plt\n",
        "\n",
        "plt.imshow(vis_test[4])"
      ],
      "execution_count": null,
      "outputs": [
        {
          "output_type": "execute_result",
          "data": {
            "text/plain": [
              "<matplotlib.image.AxesImage at 0x7f80c21218d0>"
            ]
          },
          "metadata": {
            "tags": []
          },
          "execution_count": 46
        },
        {
          "output_type": "display_data",
          "data": {
            "image/png": "[encoded data removed]",
            "text/plain": [
              "<Figure size 432x288 with 1 Axes>"
            ]
          },
          "metadata": {
            "tags": [],
            "needs_background": "light"
          }
        }
      ]
    },
    {
      "cell_type": "code",
      "metadata": {
        "colab": {
          "base_uri": "https://localhost:8080/",
          "height": 838
        },
        "id": "41_YxM35kmbV",
        "outputId": "53047736-63b0-4ecc-d814-91af10a21025"
      },
      "source": [
        "%tensorboard --logdir logs"
      ],
      "execution_count": null,
      "outputs": []
    },
    {
      "cell_type": "code",
      "metadata": {
        "id": "H9TvaGszlw45"
      },
      "source": [
        "o_callbacks = [OcclusionSensitivityCallback(validation_data=(vis_test, vis_lab),class_index=2,patch_size=4),\n",
        "]\n",
        "\n",
        " #"
      ],
      "execution_count": null,
      "outputs": []
    },
    {
      "cell_type": "code",
      "metadata": {
        "colab": {
          "base_uri": "https://localhost:8080/"
        },
        "id": "JkBuwR_JojsO",
        "outputId": "deb201f9-0f8e-4615-c9d6-e3eb4d9d2576"
      },
      "source": [
        "## Attache tensorboard for this visualization\n",
        "\n",
        "model_TF.compile(optimizer=keras.optimizers.Adam(lr=0.001), loss='binary_crossentropy', metrics=[fbeta])\n",
        "model_TF.fit(vis_test, vis_lab, epochs=10, verbose=1, callbacks=[tensorboard_callback, o_callbacks])"
      ],
      "execution_count": null,
      "outputs": [
        {
          "output_type": "stream",
          "text": [
            "Epoch 1/10\n",
            "1/1 [==============================] - 9s 9s/step - loss: 0.7450 - fbeta: 0.4306\n",
            "Epoch 2/10\n",
            "1/1 [==============================] - 1s 827ms/step - loss: 0.1270 - fbeta: 0.8653\n",
            "Epoch 3/10\n",
            "1/1 [==============================] - 0s 90ms/step - loss: 0.0381 - fbeta: 1.0000\n",
            "Epoch 4/10\n",
            "1/1 [==============================] - 0s 90ms/step - loss: 0.0256 - fbeta: 1.0000\n",
            "Epoch 5/10\n",
            "1/1 [==============================] - 0s 89ms/step - loss: 0.0175 - fbeta: 1.0000\n",
            "Epoch 6/10\n",
            "1/1 [==============================] - 0s 89ms/step - loss: 0.0116 - fbeta: 1.0000\n",
            "Epoch 7/10\n",
            "1/1 [==============================] - 0s 88ms/step - loss: 0.0082 - fbeta: 1.0000\n",
            "Epoch 8/10\n",
            "1/1 [==============================] - 0s 89ms/step - loss: 0.0062 - fbeta: 1.0000\n"
          ],
          "name": "stdout"
        }
      ]
    },
    {
      "cell_type": "code",
      "metadata": {
        "id": "OUyjpSIipfwI"
      },
      "source": [
        "import matplotlib.pyplot as plt\n",
        "it=0\n",
        "for idx in range(12):\n",
        "    img=vis_test[idx]\n",
        "    #print(np.shape(img))\n",
        "    label=str(vis_lab[idx])\n",
        "    #label=trainY[idx]\n",
        "    predict=str(vis_pred[idx])\n",
        "    if(np.sum(vis_lab[idx]*vis_pred[idx])>0):\n",
        "      it=it+1\n",
        "      explainer = tf_explain.core.GradCAM()\n",
        "      grid = explainer.explain(([img], None), model_TF.layers[0], class_index=1)\n",
        "      f, ax = plt.subplots(1,2,figsize = (8,8))\n",
        "      ax[0].set_title(\"True label: \" + str(label))\n",
        "      ax[0].imshow(img)\n",
        "      ax[1].set_title(\"Predicted label: \" + str(predict))\n",
        "      ax[1].imshow(grid)\n",
        "      if(it>10):\n",
        "        break"
      ],
      "execution_count": null,
      "outputs": []
    },
    {
      "cell_type": "code",
      "metadata": {
        "id": "d8x7ulpSxGRd"
      },
      "source": [
        ""
      ],
      "execution_count": null,
      "outputs": []
    }
  ]
}