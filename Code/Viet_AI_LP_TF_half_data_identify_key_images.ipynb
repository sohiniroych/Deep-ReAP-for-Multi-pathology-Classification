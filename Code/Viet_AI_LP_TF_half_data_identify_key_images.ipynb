{
  "nbformat": 4,
  "nbformat_minor": 0,
  "metadata": {
    "kernelspec": {
      "display_name": "Python 3",
      "language": "python",
      "name": "python3"
    },
    "language_info": {
      "codemirror_mode": {
        "name": "ipython",
        "version": 3
      },
      "file_extension": ".py",
      "mimetype": "text/x-python",
      "name": "python",
      "nbconvert_exporter": "python",
      "pygments_lexer": "ipython3",
      "version": "3.8.5"
    },
    "colab": {
      "name": "Viet_AI_LP_TF_half_data_identify_key_images.ipynb",
      "provenance": []
    }
  },
  "cells": [
    {
      "cell_type": "code",
      "metadata": {
        "colab": {
          "base_uri": "https://localhost:8080/"
        },
        "id": "9UBGHA4_yhZq",
        "outputId": "2c78c7b3-ca0d-4477-becc-a3ed91e8d562"
      },
      "source": [
        "from google.colab import drive\n",
        "drive.mount('/content/drive')"
      ],
      "execution_count": null,
      "outputs": [
        {
          "output_type": "stream",
          "text": [
            "Drive already mounted at /content/drive; to attempt to forcibly remount, call drive.mount(\"/content/drive\", force_remount=True).\n"
          ],
          "name": "stdout"
        }
      ]
    },
    {
      "cell_type": "code",
      "metadata": {
        "colab": {
          "base_uri": "https://localhost:8080/"
        },
        "id": "j2VFUygNyhZu",
        "outputId": "f4bed2a4-14b8-488c-8354-42ae492833fe"
      },
      "source": [
        "import os\n",
        "os.chdir('/content/drive/MyDrive/Viet_AI/Data')\n",
        "print(os.listdir(\".\"))"
      ],
      "execution_count": null,
      "outputs": [
        {
          "output_type": "stream",
          "text": [
            "['train.csv', 'MLE_at_Epic_Software-SOLUTIONS.ipynb', 'U-net_TF2_retinal_image_segmentation_STARE.ipynb', 'U-net_binary_DB1.ipynb', 'resnet50.h5', 'my_model.h5', 'VietAI.hdf5', 'VietAI_Basline.ipynb', 'test', '.ipynb_checkpoints', 'train', 'logs', 'VietAI_multi-label.ipynb', 'mclass_data.npz', 'CNN_multi.h5', 'data.npz', 'VietAI_Tansfer_learning (1).ipynb', 'TF_30.h5', 'TF_conv_30.h5', 'VietAI_Tansfer_learning-conv.ipynb', 'LP_TF.npz', 'LP_TF_test.npz', 'TF.h5', 'VietAI_Tansfer_learning.ipynb', 'VietAI-visualize.ipynb', 'VietAI-visualize-TF.ipynb', 'VietAI_multi_label-multi_class.ipynb', 'ipykernel_launcher.py_plot.png', 'Viet_AI_LP_TF_noFalse_all_data.ipynb', 'TF_half_30.h5', 'LP_TF_half.npz', 'LP_TF_half_test.npz', 'VietAI-Label_propagate_TF_data_create.ipynb', 'Viet_AI_Results.gsheet']\n"
          ],
          "name": "stdout"
        }
      ]
    },
    {
      "cell_type": "code",
      "metadata": {
        "id": "K2PGzE_eyhZu"
      },
      "source": [
        "## Importing required Libraries\n",
        "import os\n",
        "import tensorflow as tf\n",
        "from tensorboard.plugins import projector\n",
        "import numpy as np\n",
        "import pandas as pd\n",
        "from sklearn.preprocessing import StandardScaler\n",
        "from sklearn.decomposition import PCA\n",
        "from sklearn.semi_supervised import LabelSpreading\n",
        "from sklearn.metrics import accuracy_score, fbeta_score"
      ],
      "execution_count": null,
      "outputs": []
    },
    {
      "cell_type": "code",
      "metadata": {
        "colab": {
          "base_uri": "https://localhost:8080/"
        },
        "id": "oYI4vQ6XyhZu",
        "outputId": "ff5b29fa-5378-40cc-86e4-5043015ca9a8"
      },
      "source": [
        "#Now load the model_data\n",
        "# Load the npy files\n",
        "npzfile=np.load('LP_TF_half.npz')\n",
        "print(npzfile.files)\n",
        "X=np.squeeze(npzfile['arr_0'])\n",
        "Y=npzfile['arr_1']\n",
        "UX=np.squeeze(npzfile['arr_2'])\n",
        "UY=npzfile['arr_3']\n"
      ],
      "execution_count": null,
      "outputs": [
        {
          "output_type": "stream",
          "text": [
            "['arr_0', 'arr_1', 'arr_2', 'arr_3']\n"
          ],
          "name": "stdout"
        }
      ]
    },
    {
      "cell_type": "code",
      "metadata": {
        "colab": {
          "base_uri": "https://localhost:8080/"
        },
        "id": "3wQbdnZyyhZv",
        "outputId": "ee6d8be3-27dd-49f9-f07c-da236f0fd178"
      },
      "source": [
        "print(np.shape(X), np.shape(Y))"
      ],
      "execution_count": null,
      "outputs": [
        {
          "output_type": "stream",
          "text": [
            "(2748, 512) (2748,)\n"
          ],
          "name": "stdout"
        }
      ]
    },
    {
      "cell_type": "code",
      "metadata": {
        "colab": {
          "base_uri": "https://localhost:8080/"
        },
        "id": "N0BGuRp4mUgw",
        "outputId": "d01efced-b488-4008-f6c1-f1b5a22ae22b"
      },
      "source": [
        "vals,count=np.unique(Y, return_counts=True)\n",
        "print(vals, count)"
      ],
      "execution_count": null,
      "outputs": [
        {
          "output_type": "stream",
          "text": [
            "[  1   2   4   6   8  10  16  18  20  24  26  32  34  36  40  42  48  56\n",
            "  64  66  68  70  72  74  80  82  84  90  96  98 100 104 106 120] [425 141 239   1  25  59 253  23  25   3  13 166   4   1 120   2  14   3\n",
            " 540  42 171   2   1  53 123   8  13   7 143   2   4 119   2   1]\n"
          ],
          "name": "stdout"
        }
      ]
    },
    {
      "cell_type": "code",
      "metadata": {
        "colab": {
          "base_uri": "https://localhost:8080/"
        },
        "id": "k0UWm9uNyhZv",
        "outputId": "c2c98335-18b1-4fa5-de9e-1e057c3e6039"
      },
      "source": [
        "npzfile1=np.load('LP_TF_half_test.npz')\n",
        "NUX=np.squeeze(npzfile1['arr_0'])\n",
        "print(np.shape(NUX))"
      ],
      "execution_count": null,
      "outputs": [
        {
          "output_type": "stream",
          "text": [
            "(350, 512)\n"
          ],
          "name": "stdout"
        }
      ]
    },
    {
      "cell_type": "code",
      "metadata": {
        "colab": {
          "base_uri": "https://localhost:8080/"
        },
        "id": "VJhXKUHryhZw",
        "outputId": "70ef7195-477f-4778-a7b9-a16ef19f744e"
      },
      "source": [
        "#Now load the model_data\n",
        "# Load the npy files\n",
        "npzfile=np.load('data.npz')\n",
        "print(npzfile.files)\n",
        "trainX=np.squeeze(npzfile['arr_0'])\n",
        "trainY=npzfile['arr_1']\n",
        "testX=np.squeeze(npzfile['arr_2'])\n",
        "testY=npzfile['arr_3']\n"
      ],
      "execution_count": null,
      "outputs": [
        {
          "output_type": "stream",
          "text": [
            "['arr_0', 'arr_1', 'arr_2', 'arr_3']\n"
          ],
          "name": "stdout"
        }
      ]
    },
    {
      "cell_type": "code",
      "metadata": {
        "colab": {
          "base_uri": "https://localhost:8080/"
        },
        "id": "-TESZIjzfyUx",
        "outputId": "06a8a1a1-d398-4df1-edde-704253093c67"
      },
      "source": [
        "np.shape(X), np.shape(trainX)"
      ],
      "execution_count": null,
      "outputs": [
        {
          "output_type": "execute_result",
          "data": {
            "text/plain": [
              "((2748, 512), (2748, 256, 256, 3))"
            ]
          },
          "metadata": {
            "tags": []
          },
          "execution_count": 9
        }
      ]
    },
    {
      "cell_type": "code",
      "metadata": {
        "id": "ji7J85LcvIJf"
      },
      "source": [
        "# Next load the test folder images\n",
        "import os\n",
        "from tensorflow.keras.preprocessing.image import load_img, img_to_array\n",
        "from skimage import exposure\n",
        "\n",
        "def load_dataset(img_path):\n",
        "    images= list()\n",
        "    # enumerate files in the directory\n",
        "    files=os.listdir(img_path)\n",
        "    l=len(files)\n",
        "    for idx in range(l):\n",
        "    # load image\n",
        "        #print(idx)\n",
        "        filename=files[idx]\n",
        "        img = load_img(img_path + filename, target_size=(256,256), color_mode='rgb')\n",
        "        img = img_to_array(img, dtype='uint8')\n",
        "        # convert to numpy array\n",
        "         #Contrast stretching\n",
        "        p2, p98 = np.percentile(img, (2, 98))\n",
        "        img = exposure.rescale_intensity(img, in_range=(p2, p98))\n",
        "        \n",
        "        images.append(img)\n",
        "        \n",
        "    X = np.asarray(images, dtype='uint8')\n",
        "    return X"
      ],
      "execution_count": null,
      "outputs": []
    },
    {
      "cell_type": "code",
      "metadata": {
        "id": "vklnwZU2vTnf"
      },
      "source": [
        "NLX=load_dataset('./test/test/')"
      ],
      "execution_count": null,
      "outputs": []
    },
    {
      "cell_type": "markdown",
      "metadata": {
        "id": "1CkbOSbhv25_"
      },
      "source": [
        "# Now we have [X, Y, UX, UY, NLX]->[trainX, trainY, testX, testY] as [TX, TY, TTX, TTY]"
      ]
    },
    {
      "cell_type": "code",
      "metadata": {
        "colab": {
          "base_uri": "https://localhost:8080/"
        },
        "id": "ZKA_TWSLhpD0",
        "outputId": "f76b2e65-4ed6-4501-b523-a2a135608670"
      },
      "source": [
        "#Reduce dimensions of X to 10 to speed up process\n",
        "pca = PCA(n_components=35)\n",
        "pca.fit(X)\n",
        "X1=pca.transform(X)\n",
        "UX1=pca.transform(UX)\n",
        "NUX1=pca.transform(NUX)\n",
        "\n",
        "print(np.shape(X1))"
      ],
      "execution_count": null,
      "outputs": [
        {
          "output_type": "stream",
          "text": [
            "(2748, 35)\n"
          ],
          "name": "stdout"
        }
      ]
    },
    {
      "cell_type": "code",
      "metadata": {
        "id": "bG5IlObzyhZw"
      },
      "source": [
        "#Normalize [X1, UX1, NUX1]\n",
        "X1_n = (X1-X1.min(axis=0)) / (X1.max(axis=0)-X1.min(axis=0))\n",
        "X1=X1_n\n",
        "\n",
        "UX1_n = (UX1-UX1.min(axis=0)) / (UX1.max(axis=0)-UX1.min(axis=0))\n",
        "UX1=UX1_n\n",
        "\n",
        "NUX1_n = (NUX1-NUX1.min(axis=0)) / (NUX1.max(axis=0)-NUX1.min(axis=0))\n",
        "NUX1=NUX1_n\n",
        "# Next, we can visualize the clusters"
      ],
      "execution_count": null,
      "outputs": []
    },
    {
      "cell_type": "code",
      "metadata": {
        "colab": {
          "base_uri": "https://localhost:8080/"
        },
        "id": "m-OL9ocuyhZw",
        "outputId": "39de206a-422c-4aae-e329-775174b4850b"
      },
      "source": [
        "YO=-1*np.ones((np.shape(UY)[0]+np.shape(NUX)[0]))\n",
        "print(np.shape(YO))\n",
        "1037-350"
      ],
      "execution_count": null,
      "outputs": [
        {
          "output_type": "stream",
          "text": [
            "(1037,)\n"
          ],
          "name": "stdout"
        },
        {
          "output_type": "execute_result",
          "data": {
            "text/plain": [
              "687"
            ]
          },
          "metadata": {
            "tags": []
          },
          "execution_count": 14
        }
      ]
    },
    {
      "cell_type": "code",
      "metadata": {
        "id": "awnNT-mWyhZw"
      },
      "source": [
        "def return_metrics(y_true,y_pred):\n",
        "  #y_true is binary [0,1], so is y_pred\n",
        "  #return precision, recall, IOU, F1, Fbeta\n",
        "  tp = np.sum(y_true * y_pred)\n",
        "  fp = np.sum((y_pred - y_true)>0)\n",
        "  fn = np.sum((y_true - y_pred)>0)\n",
        "  #print(tp)\n",
        "  eps=0.000001\n",
        "\t# calculate precision\n",
        "  p = tp / (tp + fp + eps)\n",
        "\t# calculate recall\n",
        "  r = tp / (tp + fn + eps)\n",
        "  beta=2*2\n",
        "  Fbeta=np.mean((1 + beta) * (p * r) / (beta * p + r + eps))\n",
        "  return p, r, Fbeta"
      ],
      "execution_count": null,
      "outputs": []
    },
    {
      "cell_type": "code",
      "metadata": {
        "id": "YWIj_eEZhJmq"
      },
      "source": [
        "def decimal_to_bin(num):\n",
        "  res = [int(i) for i in bin(num)[2:]]\n",
        "  result=np.zeros((7))\n",
        "  l=(len(res))\n",
        "  if l<7:\n",
        "    result[-l:]=res\n",
        "  else:\n",
        "    result=res\n",
        "  return (result)"
      ],
      "execution_count": null,
      "outputs": []
    },
    {
      "cell_type": "code",
      "metadata": {
        "colab": {
          "base_uri": "https://localhost:8080/"
        },
        "id": "Y34dz24hmxb7",
        "outputId": "e0cf4c32-e8da-496f-9863-450e8446d4a0"
      },
      "source": [
        "decimal_to_bin(108)"
      ],
      "execution_count": null,
      "outputs": [
        {
          "output_type": "execute_result",
          "data": {
            "text/plain": [
              "[1, 1, 0, 1, 1, 0, 0]"
            ]
          },
          "metadata": {
            "tags": []
          },
          "execution_count": 17
        }
      ]
    },
    {
      "cell_type": "code",
      "metadata": {
        "id": "5VK7ALU4hTFo"
      },
      "source": [
        "# Convert UY labels\n",
        "true_labels=np.zeros((np.shape(UY)[0],7))\n",
        "for i in range(np.shape(UY)[0]):\n",
        "  true_labels[i]=decimal_to_bin(UY[i])"
      ],
      "execution_count": null,
      "outputs": []
    },
    {
      "cell_type": "code",
      "metadata": {
        "colab": {
          "base_uri": "https://localhost:8080/"
        },
        "id": "j8525xgGyhZx",
        "outputId": "f0c7c156-c39e-4d2e-ddb4-8e41623f45aa"
      },
      "source": [
        "#Step 4.1: LP averaged across all 7 classes (equally likely)\n",
        "import matplotlib.pyplot as plt\n",
        "# select a random sample without replacement\n",
        "from random import seed\n",
        "from random import sample\n",
        "# seed random number generator\n",
        "drop=0.5#Fraction of population to be randomly dropped\n",
        "n=np.shape(X)[0]\n",
        "print(n)\n",
        "sequence=range(0,n)\n",
        "########################################################################\n",
        "Xn=np.copy(X)\n",
        "Ynd=np.copy(Y)\n",
        "ns=np.round(drop*n).astype(int)\n",
        "print('num of samples dropped=',ns)\n",
        "dropI= sample(sequence, ns)\n",
        "Ydrop=Ynd[dropI]\n",
        "Ynd[dropI]=-1\n",
        "no_drop=sequence\n",
        "no_drop=np.delete(no_drop,dropI, 0)\n",
        "print(np.shape(no_drop))\n",
        "########################################################################\n",
        "#Keep record of training images not dropped (50% training). To add glaucoma, ME and RVO to it.\n",
        "TX=trainX[no_drop]\n",
        "TY=trainY[no_drop]\n",
        "\n",
        "\n",
        "\n"
      ],
      "execution_count": null,
      "outputs": [
        {
          "output_type": "stream",
          "text": [
            "2748\n",
            "num of samples dropped= 1374\n",
            "(1374,)\n"
          ],
          "name": "stdout"
        }
      ]
    },
    {
      "cell_type": "code",
      "metadata": {
        "colab": {
          "base_uri": "https://localhost:8080/"
        },
        "id": "bpSESu_6-f1v",
        "outputId": "356f5001-f8d2-4c9f-f0d4-808bd12aeaf1"
      },
      "source": [
        "#Now combine (Xn, UX1, NUX1)\n",
        "Xn=np.concatenate((X1,UX1,NUX1))\n",
        "Ynd=np.concatenate((Ynd,YO))\n",
        "dropI=np.concatenate((dropI,range(np.shape(X)[0],np.shape(Xn)[0])))\n",
        "#Thus (Xn,Ynd) is the new data that will be subjected to label propagation\n",
        "        ################################### so random label removal works!\n",
        "#Step 4.2: Apply Label propagation to [X,UX,NUX]\n",
        "lp_model = LabelSpreading(kernel='rbf', gamma=20, alpha=0.2) #high alpha means labels an change till stable\n",
        "            # Train the model\n",
        "        #np.savetxt('test.out', Ynd, delimiter=',') \n",
        "lp_model.fit(Xn, Ynd)\n",
        "\n",
        "\n",
        "        #Step 4.3: Predict Model label for the dropped samples\n",
        "pred = lp_model.transduction_[dropI]\n",
        "pred=pred.astype(int)\n",
        "print(np.shape(pred))\n",
        "        #print('Predictions=',pred)#pred[np.shape(X)[0]:np.shape(X)[0]+np.shape(UX)[0]])\n",
        "        #print('Groundtruth=',UY)\n",
        "        ############Predictions to be measured#######################\n",
        "predictions=pred[ns:(ns+np.shape(UY)[0])] #This is the testY images\n",
        "lab_preds_train=pred[0:ns] # This is the trainY\n",
        "lab_preds_test=pred[(ns+np.shape(UY)[0]):(ns+np.shape(YO)[0])] #This is the unlabelled test data\n",
        "print(lab_preds_test.shape)"
      ],
      "execution_count": null,
      "outputs": [
        {
          "output_type": "stream",
          "text": [
            "(2411,)\n",
            "(350,)\n"
          ],
          "name": "stdout"
        }
      ]
    },
    {
      "cell_type": "code",
      "metadata": {
        "colab": {
          "base_uri": "https://localhost:8080/"
        },
        "id": "h1wqZj2kIfH1",
        "outputId": "1575d2b7-c039-43cf-e605-2e55260529fd"
      },
      "source": [
        "np.shape(trainX), np.shape(trainY)"
      ],
      "execution_count": null,
      "outputs": [
        {
          "output_type": "execute_result",
          "data": {
            "text/plain": [
              "((2748, 256, 256, 3), (2748, 7))"
            ]
          },
          "metadata": {
            "tags": []
          },
          "execution_count": 21
        }
      ]
    },
    {
      "cell_type": "code",
      "metadata": {
        "colab": {
          "base_uri": "https://localhost:8080/"
        },
        "id": "a8rIUmRWkcP9",
        "outputId": "67131526-c2a1-4e69-d715-853cc82bfadf"
      },
      "source": [
        "#Lets find Glaucoma (16), ME (8), RVO (2) from predictions\n",
        "idx_train_G=np.where(Ydrop==16)\n",
        "idx_test_G=np.where(lab_preds_test==16)\n",
        "idx_train_ME=np.where(Ydrop==8)\n",
        "idx_test_ME=np.where(lab_preds_test==8)\n",
        "idx_train_RVO=np.where(Ydrop==2)\n",
        "idx_test_RVO=np.where(lab_preds_test==2)\n",
        "print(np.shape(idx_train_G),np.shape(idx_test_G), np.shape(idx_train_ME),np.shape(idx_test_ME), np.shape(idx_train_RVO), np.shape(idx_test_RVO))"
      ],
      "execution_count": null,
      "outputs": [
        {
          "output_type": "stream",
          "text": [
            "(1, 122) (1, 22) (1, 15) (1, 0) (1, 69) (1, 5)\n"
          ],
          "name": "stdout"
        }
      ]
    },
    {
      "cell_type": "code",
      "metadata": {
        "colab": {
          "base_uri": "https://localhost:8080/"
        },
        "id": "XLJiuLGID7BJ",
        "outputId": "27ecb558-529a-4302-b977-a4e55ad02570"
      },
      "source": [
        "#Add samples with Glaucoma, ME and RVO from training data\n",
        "TY=np.concatenate((TY,(trainY[dropI[idx_train_G]])), axis=0)\n",
        "print(np.shape(TY))"
      ],
      "execution_count": null,
      "outputs": [
        {
          "output_type": "stream",
          "text": [
            "(1496, 7)\n"
          ],
          "name": "stdout"
        }
      ]
    },
    {
      "cell_type": "code",
      "metadata": {
        "colab": {
          "base_uri": "https://localhost:8080/"
        },
        "id": "K5j2rgGnHqsZ",
        "outputId": "7a65f6c0-eb84-469b-cffb-23d16e0129e9"
      },
      "source": [
        "TX=np.concatenate((TX,(trainX[dropI[idx_train_G]])), axis=0)\n",
        "print(np.shape(TX))"
      ],
      "execution_count": null,
      "outputs": [
        {
          "output_type": "stream",
          "text": [
            "(1496, 256, 256, 3)\n"
          ],
          "name": "stdout"
        }
      ]
    },
    {
      "cell_type": "code",
      "metadata": {
        "colab": {
          "base_uri": "https://localhost:8080/"
        },
        "id": "iJ66A-jnHyUp",
        "outputId": "8fd82943-3f1b-4623-df4b-2b5cece1b591"
      },
      "source": [
        "#Repeat for ME and RVO\n",
        "TY=np.concatenate((TY,(trainY[dropI[idx_train_ME]])), axis=0)\n",
        "TX=np.concatenate((TX,(trainX[dropI[idx_train_ME]])), axis=0)\n",
        "print(np.shape(TY), np.shape(TX))"
      ],
      "execution_count": null,
      "outputs": [
        {
          "output_type": "stream",
          "text": [
            "(1511, 7) (1511, 256, 256, 3)\n"
          ],
          "name": "stdout"
        }
      ]
    },
    {
      "cell_type": "code",
      "metadata": {
        "colab": {
          "base_uri": "https://localhost:8080/"
        },
        "id": "GFm44ypPH-wy",
        "outputId": "29a9a934-ef93-402b-cb1d-b0a0d1f17c99"
      },
      "source": [
        "TY=np.concatenate((TY,(trainY[dropI[idx_train_RVO]])), axis=0)\n",
        "TX=np.concatenate((TX,(trainX[dropI[idx_train_RVO]])), axis=0)\n",
        "print(np.shape(TY), np.shape(TX))"
      ],
      "execution_count": null,
      "outputs": [
        {
          "output_type": "stream",
          "text": [
            "(1580, 7) (1580, 256, 256, 3)\n"
          ],
          "name": "stdout"
        }
      ]
    },
    {
      "cell_type": "code",
      "metadata": {
        "id": "VHoQjJZOyhZx"
      },
      "source": [
        "#Finally append NLX and its labels to trainX\n",
        "NLY=np.zeros((350,7))\n",
        "for i in range(np.shape(NLX)[0]):\n",
        "  NLY[i]=decimal_to_bin(lab_preds_test[i])"
      ],
      "execution_count": null,
      "outputs": []
    },
    {
      "cell_type": "code",
      "metadata": {
        "colab": {
          "base_uri": "https://localhost:8080/"
        },
        "id": "kahll0IJLlKA",
        "outputId": "41d07963-2e53-4bf6-9767-1639f012e988"
      },
      "source": [
        "TX=np.concatenate((TX,NLX),axis=0)\n",
        "TY=np.concatenate((TY,NLY),axis=0)\n",
        "print(np.shape(TY), np.shape(TX))"
      ],
      "execution_count": null,
      "outputs": [
        {
          "output_type": "stream",
          "text": [
            "(1930, 7) (1930, 256, 256, 3)\n"
          ],
          "name": "stdout"
        }
      ]
    },
    {
      "cell_type": "code",
      "metadata": {
        "id": "TkznnFfOyk2e"
      },
      "source": [
        "np.savez('new_train_data', TX, TY, testX, testY)"
      ],
      "execution_count": null,
      "outputs": []
    },
    {
      "cell_type": "code",
      "metadata": {
        "id": "xiOWoqs1MAUr"
      },
      "source": [
        ""
      ],
      "execution_count": null,
      "outputs": []
    }
  ]
}